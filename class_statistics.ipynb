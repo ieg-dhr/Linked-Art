{
 "cells": [
  {
   "cell_type": "markdown",
   "metadata": {},
   "source": [
    "# Class Statistics"
   ]
  },
  {
   "cell_type": "markdown",
   "metadata": {},
   "source": [
    "Importing exported, transformed dataclasses"
   ]
  },
  {
   "cell_type": "code",
   "execution_count": 2,
   "metadata": {},
   "outputs": [],
   "source": [
    "import json\n",
    "import matplotlib.pyplot as plt\n",
    "import operator"
   ]
  },
  {
   "cell_type": "code",
   "execution_count": 3,
   "metadata": {},
   "outputs": [],
   "source": [
    "with open(\"K:\\\\Pharos-all_data\\\\entity_dump_cleaned_and_restructured_2.json\", encoding = 'cp1252') as f:\n",
    "    data = json.load(f)"
   ]
  },
  {
   "cell_type": "markdown",
   "metadata": {},
   "source": [
    "### Functions"
   ]
  },
  {
   "cell_type": "code",
   "execution_count": 4,
   "metadata": {},
   "outputs": [],
   "source": [
    "def exchange_id_with_value(id):\n",
    "    value = data[id]\n",
    "    for index in range(len(data[id])):\n",
    "        for index_2 in range(len(data[id][index])):\n",
    "            if type(data[id][index][index_2]) == dict:\n",
    "                label = data[id][index][index_2][\"Label\"]\n",
    "                break\n",
    "\n",
    "\n",
    "    return label"
   ]
  },
  {
   "cell_type": "markdown",
   "metadata": {},
   "source": [
    "## Artwork / Artist Relation"
   ]
  },
  {
   "cell_type": "markdown",
   "metadata": {},
   "source": [
    "collecting all works from the data"
   ]
  },
  {
   "cell_type": "code",
   "execution_count": null,
   "metadata": {},
   "outputs": [],
   "source": [
    "work_dict = {}\n",
    "for key in list(data.keys()):\n",
    "    if key.__contains__(\"work\"):\n",
    "        work_dict[key] = data[key]"
   ]
  },
  {
   "cell_type": "markdown",
   "metadata": {},
   "source": [
    "looking for the artist of each artwork. When there is no artist, a placeholder will be created"
   ]
  },
  {
   "cell_type": "code",
   "execution_count": null,
   "metadata": {},
   "outputs": [],
   "source": [
    "works_and_artists = {}\n",
    "for work in list(work_dict.keys()):\n",
    "    for attribute in work_dict[work]:\n",
    "        for index in range(len(attribute)):\n",
    "            if type(attribute[index]) == list and attribute[index][0] == \"PC14_carried_out_by(cidoc-crm)\":\n",
    "                work_as_key = work.split(\"(\")[0]\n",
    "                artist_id = attribute[index][1].split(\"(\")[0]\n",
    "            elif type(attribute[index]) == list and attribute[index][1] == \"PC14_carried_out_by(cidoc-crm)\":\n",
    "                work_as_key = work.split(\"(\")[0]\n",
    "                artist_id = attribute[index][0].split(\"(\")[0]\n",
    "\n",
    "            if type(attribute[index]) == list and attribute[index][0] == \"P14.1_in_the_role_of(cidoc-crm)\":\n",
    "                profession_id = exchange_id_with_value(attribute[index][1])\n",
    "            elif type(attribute[index]) == list and attribute[index][0] == \"P14.1_in_the_role_of(cidoc-crm)\":\n",
    "                profession_id = exchange_id_with_value(attribute[index][0])\n",
    "\n",
    "    if work_as_key != None:\n",
    "        works_and_artists[work_as_key] = (artist_id, profession_id)\n",
    "    \n",
    "      \n",
    "    if work_as_key == None:\n",
    "        work_as_key = work.split(\"(\")[0]\n",
    "        works_and_artists[work_as_key] = [\"No Artist\", None]\n",
    "\n",
    "    work_as_key = None\n",
    "    \n"
   ]
  },
  {
   "cell_type": "code",
   "execution_count": null,
   "metadata": {},
   "outputs": [],
   "source": [
    "professions = set()\n",
    "for element in works_and_artists:\n",
    "    professions.add(works_and_artists[element][1])"
   ]
  },
  {
   "cell_type": "code",
   "execution_count": null,
   "metadata": {},
   "outputs": [],
   "source": [
    "print(professions)"
   ]
  },
  {
   "cell_type": "markdown",
   "metadata": {},
   "source": [
    "Iterating over each artwork and counting the occourences of artist. Counting, how many works an artist has done."
   ]
  },
  {
   "cell_type": "code",
   "execution_count": null,
   "metadata": {},
   "outputs": [],
   "source": [
    "artist_work_count = {}\n",
    "artist_and_profession = {}\n",
    "for work in list(works_and_artists.keys()):\n",
    "    if works_and_artists[work][0] not in artist_work_count:\n",
    "        artist_work_count[works_and_artists[work][0]] = [1, works_and_artists[work][1]]\n",
    "        artist_and_profession[works_and_artists[work][0]] = works_and_artists[work][1]\n",
    "    else:\n",
    "        artist_work_count[works_and_artists[work][0]][0] += 1"
   ]
  },
  {
   "cell_type": "markdown",
   "metadata": {},
   "source": [
    "Iterating over the artists and counting each artist with a certain amount of artworks. How many artists have made exactly one artwork, how many have made two and so on"
   ]
  },
  {
   "cell_type": "code",
   "execution_count": null,
   "metadata": {},
   "outputs": [],
   "source": [
    "artists_with_mult_works_count = {}\n",
    "\n",
    "for artist in list(artist_work_count.keys()):\n",
    "    if artist_work_count[artist][0] not in artists_with_mult_works_count:\n",
    "        artists_with_mult_works_count[artist_work_count[artist][0]] = 1\n",
    "    else:\n",
    "        artists_with_mult_works_count[artist_work_count[artist][0]] += 1"
   ]
  },
  {
   "cell_type": "markdown",
   "metadata": {},
   "source": [
    "Transforming the dictionary data in a list of coordinates and splitting them in two eperate lists."
   ]
  },
  {
   "cell_type": "code",
   "execution_count": null,
   "metadata": {},
   "outputs": [],
   "source": [
    "sorted_keys = list(artists_with_mult_works_count.keys())\n",
    "sorted_keys.sort()\n",
    "\n",
    "artists_with_mult_works_count_list = []\n",
    "for key in sorted_keys:\n",
    "    artists_with_mult_works_count_list.append([key, artists_with_mult_works_count[key]])\n",
    "\n",
    "works_count = [element[0] for element in artists_with_mult_works_count_list]\n",
    "artist_count = [element[1] for element in artists_with_mult_works_count_list]"
   ]
  },
  {
   "cell_type": "markdown",
   "metadata": {},
   "source": [
    "ploting the data"
   ]
  },
  {
   "cell_type": "code",
   "execution_count": null,
   "metadata": {},
   "outputs": [],
   "source": [
    "plt.figure(figsize=(25,25))\n",
    "plt.yscale('log')\n",
    "plt.xscale('log')\n",
    "plt.scatter(works_count, artist_count)\n",
    "#plt.axis([0,100,0,100])\n",
    "plt.title(\"Artwork / Artist Relation\")\n",
    "plt.xlabel(\"number of artworks\")\n",
    "plt.ylabel(\"number of artists\")"
   ]
  },
  {
   "cell_type": "code",
   "execution_count": null,
   "metadata": {},
   "outputs": [],
   "source": [
    "most_works = [element[0] for element in list(artist_work_count.values())]\n",
    "most_works.sort(reverse=True)\n",
    "most_works = most_works[1:11]"
   ]
  },
  {
   "cell_type": "code",
   "execution_count": null,
   "metadata": {},
   "outputs": [],
   "source": [
    "top_artists = [element for element in artist_work_count if artist_work_count[element][0] in most_works]\n",
    "top_artists = [element + \"(actor)\" for element in top_artists]\n",
    "top_artists = [exchange_id_with_value(element) for element in top_artists]"
   ]
  },
  {
   "cell_type": "code",
   "execution_count": null,
   "metadata": {},
   "outputs": [],
   "source": [
    "print(\"Artists with most artworks\")\n",
    "for element in top_artists:\n",
    "    print(\"{}\".format(element))"
   ]
  },
  {
   "cell_type": "markdown",
   "metadata": {},
   "source": [
    "### Attempt to scatter in color according to profession"
   ]
  },
  {
   "cell_type": "code",
   "execution_count": null,
   "metadata": {},
   "outputs": [],
   "source": [
    "artist_work_count_and_profession_list = []\n",
    "\n",
    "for element in artist_work_count:\n",
    "    artist_work_count_and_profession_list.append([element, artist_work_count[element][0], artist_work_count[element][1]])"
   ]
  },
  {
   "cell_type": "code",
   "execution_count": null,
   "metadata": {},
   "outputs": [],
   "source": [
    "def takeSecond(elem):\n",
    "    return elem[1]\n",
    "\n",
    "artist_work_count_and_profession_list.sort(key=takeSecond)"
   ]
  },
  {
   "cell_type": "code",
   "execution_count": null,
   "metadata": {},
   "outputs": [],
   "source": [
    "artist_list = [element[0] for element in artist_work_count_and_profession_list]\n",
    "count_list = [element[1] for element in artist_work_count_and_profession_list]\n",
    "profession_list = [element[2] for element in artist_work_count_and_profession_list]"
   ]
  },
  {
   "cell_type": "code",
   "execution_count": null,
   "metadata": {},
   "outputs": [],
   "source": [
    "id = 0\n",
    "profession_list_numberized = []\n",
    "helping_dict = {}\n",
    "for element in profession_list:\n",
    "    if element not in helping_dict:\n",
    "        helping_dict[element] = id\n",
    "        id += 1\n",
    "        profession_list_numberized.append(helping_dict[element])\n",
    "    else:\n",
    "        profession_list_numberized.append(helping_dict[element])"
   ]
  },
  {
   "cell_type": "code",
   "execution_count": null,
   "metadata": {},
   "outputs": [],
   "source": [
    "print(list(helping_dict.keys()))"
   ]
  },
  {
   "cell_type": "code",
   "execution_count": null,
   "metadata": {},
   "outputs": [],
   "source": [
    "import numpy as np\n",
    "\n",
    "plt.figure(figsize=(25,25))\n",
    "plt.scatter(artist_list, count_list, c=profession_list_numberized)\n",
    "#plt.axis([5250,5650,0,200])\n",
    "plt.xlabel(\"artists\")\n",
    "plt.ylabel(\"number of artworks\")\n",
    "\n",
    "cb = plt.colorbar()\n",
    "loc = np.arange(0, max(profession_list_numberized), max(profession_list_numberized)/float(len(list(helping_dict.keys()))))\n",
    "cb.set_ticks(loc)\n",
    "cb.set_ticklabels(profession_list)"
   ]
  },
  {
   "cell_type": "markdown",
   "metadata": {},
   "source": [
    "## Artwork / Location Relation"
   ]
  },
  {
   "cell_type": "markdown",
   "metadata": {},
   "source": [
    "collecting all works from the data"
   ]
  },
  {
   "cell_type": "code",
   "execution_count": null,
   "metadata": {},
   "outputs": [],
   "source": [
    "work_dict = {}\n",
    "for key in list(data.keys()):\n",
    "    if key.__contains__(\"work\"):\n",
    "        work_dict[key] = data[key]"
   ]
  },
  {
   "cell_type": "code",
   "execution_count": null,
   "metadata": {},
   "outputs": [],
   "source": [
    "works_and_places = {}\n",
    "for work in list(work_dict.keys()):\n",
    "    for attribute in work_dict[work]:\n",
    "        for index in range(len(attribute)):\n",
    "            if type(attribute[index]) == list and attribute[index][0] == \"P55_has_current_location(cidoc-crm)\":\n",
    "                work_as_key = work.split(\"(\")[0]\n",
    "                place_id = attribute[index][1].split(\"(\")[0]\n",
    "            elif type(attribute[index]) == list and attribute[index][1] == \"P55_has_current_location(cidoc-crm)\":\n",
    "                work_as_key = work.split(\"(\")[0]\n",
    "                place_id = attribute[index][0].split(\"(\")[0]\n",
    "            \"\"\"\n",
    "            if type(attribute[index]) == list and attribute[index][0] == \"P14.1_in_the_role_of(cidoc-crm)\":\n",
    "                profession_id = exchange_id_with_value(attribute[index][1])\n",
    "            elif type(attribute[index]) == list and attribute[index][0] == \"P14.1_in_the_role_of(cidoc-crm)\":\n",
    "                profession_id = exchange_id_with_value(attribute[index][0])\n",
    "                \"\"\"\n",
    "\n",
    "    if work_as_key != None:\n",
    "        works_and_places[work_as_key] = place_id\n",
    "    \n",
    "      \n",
    "    if work_as_key == None:\n",
    "        work_as_key = work.split(\"(\")[0]\n",
    "        works_and_places[work_as_key] = \"No Place\"\n",
    "\n",
    "    work_as_key = None\n",
    "    \n"
   ]
  },
  {
   "cell_type": "code",
   "execution_count": null,
   "metadata": {},
   "outputs": [],
   "source": [
    "place_work_count = {}\n",
    "for work in list(works_and_places.keys()):\n",
    "    if works_and_places[work] not in place_work_count:\n",
    "        place_work_count[works_and_places[work]] = 1\n",
    "    else:\n",
    "        place_work_count[works_and_places[work]] += 1"
   ]
  },
  {
   "cell_type": "code",
   "execution_count": null,
   "metadata": {},
   "outputs": [],
   "source": [
    "places_with_mult_works_count = {}\n",
    "\n",
    "for place in list(place_work_count.keys()):\n",
    "    if place_work_count[place] not in places_with_mult_works_count:\n",
    "        places_with_mult_works_count[place_work_count[place]] = 1\n",
    "    else:\n",
    "        places_with_mult_works_count[place_work_count[place]] += 1"
   ]
  },
  {
   "cell_type": "code",
   "execution_count": null,
   "metadata": {},
   "outputs": [],
   "source": [
    "sorted_keys = list(places_with_mult_works_count.keys())\n",
    "sorted_keys.sort()\n",
    "\n",
    "places_with_mult_works_count_list = []\n",
    "for key in sorted_keys:\n",
    "    places_with_mult_works_count_list.append([key, places_with_mult_works_count[key]])\n",
    "\n",
    "works_count = [element[0] for element in places_with_mult_works_count_list]\n",
    "places_count = [element[1] for element in places_with_mult_works_count_list]"
   ]
  },
  {
   "cell_type": "code",
   "execution_count": null,
   "metadata": {},
   "outputs": [],
   "source": [
    "plt.figure(figsize=(25,25))\n",
    "plt.scatter(works_count, places_count)\n",
    "plt.yscale('log')\n",
    "plt.xscale('log')\n",
    "plt.title(\"Artwork / Location Relation\")\n",
    "plt.xlabel(\"number of works\")\n",
    "plt.ylabel(\"number of places\")"
   ]
  },
  {
   "cell_type": "code",
   "execution_count": null,
   "metadata": {},
   "outputs": [],
   "source": [
    "most_works = [element for element in list(place_work_count.values())]\n",
    "most_works.sort(reverse=True)\n",
    "most_works = most_works[1:11]"
   ]
  },
  {
   "cell_type": "code",
   "execution_count": null,
   "metadata": {},
   "outputs": [],
   "source": [
    "top_places = [element for element in place_work_count if place_work_count[element] in most_works]\n",
    "top_places = [element + \"(place)\" for element in top_places]\n",
    "top_places = [exchange_id_with_value(element) for element in top_places]"
   ]
  },
  {
   "cell_type": "code",
   "execution_count": null,
   "metadata": {},
   "outputs": [],
   "source": [
    "print(\"Places with most artworks\")\n",
    "for element in top_places:\n",
    "    print(\"{}\".format(element))"
   ]
  },
  {
   "cell_type": "markdown",
   "metadata": {},
   "source": [
    "## Person / Location Relation"
   ]
  },
  {
   "cell_type": "code",
   "execution_count": null,
   "metadata": {},
   "outputs": [],
   "source": [
    "person_dict = {}\n",
    "for key in list(data.keys()):\n",
    "    if key.__contains__(\"actor\"):\n",
    "        person_dict[key] = data[key]"
   ]
  },
  {
   "cell_type": "code",
   "execution_count": null,
   "metadata": {},
   "outputs": [],
   "source": [
    "persons_and_places = {}\n",
    "person_as_key = None\n",
    "for person in list(person_dict.keys()):\n",
    "    for attribute in person_dict[person]:\n",
    "        for index in range(len(attribute)):\n",
    "            if type(attribute[index]) == list and attribute[index][0] == \"P74_has_current_or_former_residence(cidoc-crm)\":\n",
    "                person_as_key = person.split(\"(\")[0]\n",
    "                place_id = attribute[index][1].split(\"(\")[0]\n",
    "            elif type(attribute[index]) == list and attribute[index][1] == \"P74_has_current_or_former_residence(cidoc-crm)\":\n",
    "                person_as_key = person.split(\"(\")[0]\n",
    "                place_id = attribute[index][0].split(\"(\")[0]\n",
    "            \"\"\"\n",
    "            if type(attribute[index]) == list and attribute[index][0] == \"P14.1_in_the_role_of(cidoc-crm)\":\n",
    "                profession_id = exchange_id_with_value(attribute[index][1])\n",
    "            elif type(attribute[index]) == list and attribute[index][0] == \"P14.1_in_the_role_of(cidoc-crm)\":\n",
    "                profession_id = exchange_id_with_value(attribute[index][0])\n",
    "                \"\"\"\n",
    "\n",
    "    if person_as_key != None:\n",
    "        persons_and_places[person_as_key] = place_id\n",
    "    \n",
    "      \n",
    "    if person_as_key == None:\n",
    "        person_as_key = person.split(\"(\")[0]\n",
    "        persons_and_places[person_as_key] = \"No Place\"\n",
    "\n",
    "    person_as_key = None\n",
    "    \n"
   ]
  },
  {
   "cell_type": "code",
   "execution_count": null,
   "metadata": {},
   "outputs": [],
   "source": [
    "place_person_count = {}\n",
    "for person in list(persons_and_places.keys()):\n",
    "    if persons_and_places[person] not in place_person_count:\n",
    "        place_person_count[persons_and_places[person]] = 1\n",
    "    else:\n",
    "        place_person_count[persons_and_places[person]] += 1"
   ]
  },
  {
   "cell_type": "code",
   "execution_count": null,
   "metadata": {},
   "outputs": [],
   "source": [
    "places_with_mult_persons_count = {}\n",
    "\n",
    "for place in list(place_person_count.keys()):\n",
    "    if place_person_count[place] not in places_with_mult_persons_count:\n",
    "        places_with_mult_persons_count[place_person_count[place]] = 1\n",
    "    else:\n",
    "        places_with_mult_persons_count[place_person_count[place]] += 1"
   ]
  },
  {
   "cell_type": "code",
   "execution_count": null,
   "metadata": {},
   "outputs": [],
   "source": [
    "sorted_keys = list(places_with_mult_persons_count.keys())\n",
    "sorted_keys.sort()\n",
    "\n",
    "places_with_mult_persons_count_list = []\n",
    "for key in sorted_keys:\n",
    "    places_with_mult_persons_count_list.append([key, places_with_mult_persons_count[key]])\n",
    "\n",
    "persons_count = [element[0] for element in places_with_mult_persons_count_list]\n",
    "places_count = [element[1] for element in places_with_mult_persons_count_list]"
   ]
  },
  {
   "cell_type": "code",
   "execution_count": null,
   "metadata": {},
   "outputs": [],
   "source": [
    "plt.figure(figsize=(25,25))\n",
    "plt.scatter(persons_count, places_count)\n",
    "plt.yscale('log')\n",
    "plt.xscale('log')\n",
    "#plt.axis([0,250,0,250])\n",
    "plt.title(\"Person / Location Relation\")\n",
    "plt.xlabel(\"number of persons\")\n",
    "plt.ylabel(\"number of places\")"
   ]
  },
  {
   "cell_type": "code",
   "execution_count": null,
   "metadata": {},
   "outputs": [],
   "source": [
    "most_persons = [element for element in list(place_person_count.values())]\n",
    "most_persons.sort(reverse=True)\n",
    "most_persons = most_persons[1:11]"
   ]
  },
  {
   "cell_type": "code",
   "execution_count": null,
   "metadata": {},
   "outputs": [],
   "source": [
    "top_places = [element for element in place_person_count if place_person_count[element] in most_persons]\n",
    "top_places = [element + \"(place)\" for element in top_places]\n",
    "top_places = [exchange_id_with_value(element) for element in top_places]"
   ]
  },
  {
   "cell_type": "code",
   "execution_count": null,
   "metadata": {},
   "outputs": [],
   "source": [
    "print(\"Places with most Artists\")\n",
    "for element in top_places:\n",
    "    print(\"{}\".format(element))"
   ]
  },
  {
   "cell_type": "markdown",
   "metadata": {},
   "source": [
    "## Photographer / Artwork Relation"
   ]
  },
  {
   "cell_type": "markdown",
   "metadata": {},
   "source": [
    "### Preprocessing"
   ]
  },
  {
   "cell_type": "code",
   "execution_count": 5,
   "metadata": {},
   "outputs": [],
   "source": [
    "work_dict = {}\n",
    "for key in list(data.keys()):\n",
    "    if key.__contains__(\"work\"):\n",
    "        work_dict[key] = data[key]"
   ]
  },
  {
   "cell_type": "code",
   "execution_count": 6,
   "metadata": {},
   "outputs": [],
   "source": [
    "actor_dict = {}\n",
    "for key in list(data.keys()):\n",
    "    if key.__contains__(\"actor\"):\n",
    "        actor_dict[key] = data[key]"
   ]
  },
  {
   "cell_type": "code",
   "execution_count": 7,
   "metadata": {},
   "outputs": [],
   "source": [
    "type_dict = {}\n",
    "for key in list(data.keys()):\n",
    "    if key.__contains__(\"type\"):\n",
    "        type_dict[key] = data[key]"
   ]
  },
  {
   "cell_type": "code",
   "execution_count": 8,
   "metadata": {},
   "outputs": [],
   "source": [
    "photo_dict = {}\n",
    "for key in list(data.keys()):\n",
    "    if key.__contains__(\"photo\"):\n",
    "        photo_dict[key] = data[key]"
   ]
  },
  {
   "cell_type": "code",
   "execution_count": 9,
   "metadata": {},
   "outputs": [],
   "source": [
    "photos_with_works = {}\n",
    "for counter, photo in enumerate(photo_dict):\n",
    "    for attribute in photo_dict[photo]:\n",
    "        for index in range(len(attribute)):\n",
    "            if type(attribute[index]) == list and \"P128_carries(cidoc-crm)\" in attribute[index]:\n",
    "                photos_with_works[photo] = photo_dict[photo]\n",
    "            \"\"\"\n",
    "            if type(attribute[index]) == dict:\n",
    "                print(attribute[index])\n",
    "            \"\"\""
   ]
  },
  {
   "cell_type": "code",
   "execution_count": 11,
   "metadata": {},
   "outputs": [
    {
     "name": "stdout",
     "output_type": "stream",
     "text": [
      "45192\n",
      "33029\n"
     ]
    }
   ],
   "source": [
    "print(len(photo_dict))\n",
    "\n",
    "print(len(photos_with_works))"
   ]
  },
  {
   "cell_type": "code",
   "execution_count": 12,
   "metadata": {},
   "outputs": [
    {
     "name": "stdout",
     "output_type": "stream",
     "text": [
      "45192\n",
      "33029\n"
     ]
    }
   ],
   "source": [
    "print(len(photo_dict))\n",
    "\n",
    "print(len(photos_with_works))"
   ]
  },
  {
   "cell_type": "code",
   "execution_count": 19,
   "metadata": {},
   "outputs": [],
   "source": [
    "photographer_dict = {}\n",
    "\n",
    "for counter, photo in enumerate(photo_dict):\n",
    "    for attribute in photo_dict[photo]:\n",
    "        for index in range(len(attribute)):\n",
    "            \"\"\"\n",
    "            if type(attribute[index]) == list and \"P128_carries(cidoc-crm)\" in attribute[index]:\n",
    "                work_on_photo = [ element.split(\"(\")[1].replace(\")\", \"\") for element in attribute[index] if element.__contains__(\"visual_item\")][0]\n",
    "            \"\"\"\n",
    "            if type(attribute[index]) == list and \"P14_carried_out_by(cidoc-crm)\" in attribute[index]:\n",
    "                photographer = exchange_id_with_value([element for element in attribute[index] if element.__contains__(\"actor\")][0])\n",
    "\n",
    "    if photographer not in photographer_dict:\n",
    "        photographer_dict[photographer] = 1\n",
    "    else:\n",
    "        photographer_dict[photographer] += 1"
   ]
  },
  {
   "cell_type": "code",
   "execution_count": 24,
   "metadata": {},
   "outputs": [
    {
     "name": "stdout",
     "output_type": "stream",
     "text": [
      "3196\n"
     ]
    }
   ],
   "source": [
    "print(photographer_dict[\"Bazzechi,Ivo\"])"
   ]
  },
  {
   "cell_type": "code",
   "execution_count": 10,
   "metadata": {},
   "outputs": [],
   "source": [
    "photographer_dict = {}\n",
    "\n",
    "for counter, photo in enumerate(photos_with_works):\n",
    "    for attribute in photo_dict[photo]:\n",
    "        for index in range(len(attribute)):\n",
    "            if type(attribute[index]) == list and \"P128_carries(cidoc-crm)\" in attribute[index]:\n",
    "                work_on_photo = [ element.split(\"(\")[1].replace(\")\", \"\") for element in attribute[index] if element.__contains__(\"visual_item\")][0]\n",
    "            if type(attribute[index]) == list and \"P14_carried_out_by(cidoc-crm)\" in attribute[index]:\n",
    "                photographer = exchange_id_with_value([element for element in attribute[index] if element.__contains__(\"actor\")][0])\n",
    "\n",
    "    if photographer not in photographer_dict:\n",
    "        photographer_dict[photographer] = {work_on_photo: 1}\n",
    "    elif work_on_photo not in photographer_dict[photographer]:\n",
    "        photographer_dict[photographer][work_on_photo] = 1\n",
    "    else:\n",
    "        photographer_dict[photographer][work_on_photo] += 1"
   ]
  },
  {
   "cell_type": "code",
   "execution_count": 30,
   "metadata": {},
   "outputs": [
    {
     "name": "stdout",
     "output_type": "stream",
     "text": [
      "68\n",
      "['Sigismondi,Roberto', 'Artini,Luigi', 'Brogi', 'Fiorucci,Carlo', 'Visconti,FrancescoArese']\n",
      "4049\n",
      "{'07874073': 17, '07963272': 14, '07960775': 1, '07961712': 1, '07960772': 2, '07960779': 1, '07600323': 1, '07961711': 3, '07600328': 2, '07963273': 2, '07874071': 1, '07963274': 3, '07960771': 1, '07963275': 4, '07705202': 2, '07855840': 1, '07960776': 1, '07702708': 1, '07960770': 1, '07600326': 1, '07961719': 1, '07960778': 2, '07961713': 3, '07855844': 1, '07963280': 15, '07961715': 1, '07963277': 1, '07605216': 1, '07855834': 1, '70007796': 1, '07855833': 1, '07960777': 1, '07961716%2CT%2C001': 1, '70000499': 1, '70007799': 1, '07855843': 1, '70007795': 1, '07963270': 1, '70007794': 1, '70007793': 1, '07961714': 1, '07963279': 1, '70007798': 1, '70007797': 1, '07961716%2CT%2C002': 1, '07961718': 1, '07874075': 1, '70007790': 1, '07874077': 2, '07652282': 1, '70007791': 1, '70007792': 1, '07873982': 1, '07874081': 1, '07873986': 1, '07874079': 1, '07811326': 5, '07963260': 1, '07961700': 1, '07963262': 1, '07963261': 1, '70000482': 1, '07874083': 1, '07874085': 2, '07963263': 2, '07873984': 1, '07960769': 1, '07961703': 1, '07961703%2CT%2C003': 1, '70000488': 5, '07961704%2CT%2C003': 1, '07960768': 4, '07961704%2CT%2C002': 3, '07961701%2CT%2C006': 1, '07963269': 1, '07961704%2CT%2C004': 1, '07963268': 1, '07963264': 1, '07961704%2CT%2C001': 2, '70000487': 2, '07961705%2CT%2C002': 1, '07961705%2CT%2C001%2CT%2C004': 2, '07855827': 1, '07961705%2CT%2C001%2CT%2C005': 3, '07605225': 1, '07855828': 1, '70007786': 7, '70007785': 3, '07855826': 1, '70007789': 1, '07963265': 3, '70007787': 4, '07855829': 1, '70007788': 1, '07963266': 1, '07963267': 2, '07873988': 1, '07874087': 1, '07811322': 2, '07874089': 1, '07963297': 1, '07963298': 1, '07873994': 1, '07873996': 1, '07874091': 1, '07963299': 1, '07874093': 3, '07873997': 1, '07961730': 1, '07963296': 1, '07874097': 1, '07874095': 3, '07963291': 1, '07961731': 1, '07873995': 1, '07873992': 1, '07963290': 1, '07873990': 2, '07963293': 1, '07963292': 1, '07963295': 1, '07963294': 1, '07855811': 1, '07855813': 1, '07874099': 1, '07960781': 4, '07960783': 1, '07801518': 1, '07960784': 1, '07960780': 1, '07960782': 1, '07963281': 2, '07961728': 7, '07961723': 3, '07961722%2CT%2C002': 1, '07963282': 1, '07961721%2CT%2C002': 1, '07961721%2CT%2C001': 1, '07963285': 1, '07801509': 1, '07963283': 1, '07961726': 1, '07961722': 1, '07963287': 1, '07961727': 1, '07961724': 3, '07961722%2CT%2C001': 3, '07963289': 2, '07961729%2CT%2C001': 1, '07855800': 1, '07961725': 3, '07855801': 1, '07963288': 1, '07961751': 1, '07961750': 1, '07961752': 1, '07855884': 1, '07961754': 4, '07505280%2CT%2C001': 3, '07874036': 4, '07874037': 5, '07961758%2CT%2C002%2CT%2C011': 1, '07874039': 1, '07505280': 7, '07855886': 1, '07873939': 1, '07874040': 1, '07874041': 1, '07961753': 1, '07858381': 1, '07874042': 2, '07874035': 3, '07876438': 1, '07873937': 1, '07873931': 1, '07874032': 6, '07876852': 8, '07877092': 6, '07874034': 7, '07874033': 8, '07876855': 9, '07876854': 10, '07873935': 1, '07873933': 1, '07703299': 1, '07930860': 2, '07961747': 2, '07961746%2CT%2C001': 2, '07961744%2CT%2C002': 8, '07961745%2CT%2C002': 2, '07961745%2CT%2C003': 2, '07961744%2CT%2C001': 3, '07961745': 2, '07961740': 2, '07855873': 1, '07961745%2CT%2C001': 2, '07961741%2CT%2C002%2CT%2C001': 2, '07961741': 2, '07855871': 1, '07961748': 1, '07961745%2CT%2C004': 2, '07855872': 1, '07856804%2CT%2C001': 1, '70000440': 1, '07874048': 2, '07856804%2CT%2C002': 1, '07855869': 1, '07856802': 1, '07856801': 2, '07961749': 1, '07856803': 1, '07856804': 1, '07873949': 1, '07856805': 1, '07873947': 2, '07961771%2CT%2C004': 2, '07961772%2CT%2C001': 3, '07961776': 4, '07874046': 2, '07801553': 1, '07961771%2CT%2C003': 1, '07961771%2CT%2C005': 2, '07801526': 1, '07873945': 6, '07874047': 1, '07874044': 1, '07874043': 1, '07873941': 1, '07962716': 1, '07856800': 3, '07961778%2CT%2C001': 1, '07961774%2CT%2C001': 2, '07961774%2CT%2C002': 2, '07855863': 1, '07961773': 8, '07961777%2CT%2C003': 2, '07962711': 1, '07855861': 1, '07962712': 2, '07961779': 2, '07961777': 2, '07961774': 4, '07874053': 1, '07874050': 1, '07961775': 2, '07962715': 1, '07873951': 1, '07962714': 1, '07874052': 2, '07960317': 1, '07961777%2CT%2C001': 2, '07961777%2CT%2C002': 2, '07962717': 7, '70000701': 1, '70000702': 1, '07962718': 5, '70000475': 3, '07962719': 2, '70000486': 3, '07876451': 1, '07874054': 1, '07855859': 1, '70000704': 1, '07855857': 1, '07873953': 1, '07961780%2CT%2C004': 1, '07874059': 12, '07961780': 3, '07961780%2CT%2C003': 2, '07961780%2CT%2C002': 1, '07873961': 2, '07874058': 4, '07873959': 2, '07874056': 1, '07873957': 3, '07873963': 2, '07961780%2CT%2C001': 1, '07874062': 24, '07874061': 10, '07874060': 4, '07960306': 18, '07962700': 3, '07855850': 1, '07962702': 1, '07855855': 1, '70008435': 2, '70008437': 1, '07855851': 1, '07962704': 1, '07962705': 1, '07855853': 1, '70008436': 2, '07855852': 1, '07962706': 1, '07855847': 1, '07962707': 1, '07962708': 1, '07873966': 2, '07810559': 1, '07962709': 1, '07705201': 14, '07874064': 8, '07874067': 5, '07874069': 1, '07874065': 1, '07873964': 2, '07856863%2CT%2C004': 1, '07961796%2CT%2C002': 2, '07856862%2CT%2C004%2CT': 2, '07856860%2CT%2C004%2CT%2C002': 1, '07856863%2CT%2C003': 1, '07856860%2CT%2C004%2CT%2C001': 1, '07961796%2CT%2C001': 3, '07856865%2CT%2C001': 2, '07856864%2CT%2C002': 1, '07856860%2CT%2C004%2CT': 2, '07961794': 1, '07856862%2CT%2C004%2CT%2C002': 1, '07856863': 1, '07856864%2CT%2C004%2CT': 2, '07856863%2CT%2C001': 1, '07856865%2CT%2C003': 1, '07856864%2CT%2C003': 1, '07856862%2CT%2C003': 1, '07961795': 1, '07856862%2CT%2C002': 1, '07856865%2CT%2C002': 1, '07856864%2CT%2C004%2CT%2C003': 1, '07856865%2CT%2C004%2CT%2C002': 1, '07856865%2CT%2C004%2CT%2C001': 1, '07856864%2CT%2C004%2CT%2C001': 1, '07856865%2CT%2C004%2CT': 2, '07856863%2CT%2C002': 1, '07856860%2CT%2C001': 1, '07856864%2CT%2C004%2CT%2C002': 1, '07856860%2CT%2C002': 1, '07856862%2CT%2C001': 1, '07856860%2CT%2C003': 1, '07856861': 1, '07804910': 1, '07856860%2CT%2C004%2CT%2C003': 1, '07856862%2CT%2C004%2CT%2C001': 1, '07856864%2CT%2C001': 1, '07961793%2CT%2C001': 1, '07804919': 1, '07804912': 4, '07804911': 5, '07804914': 4, '07804913': 5, '07804917': 2, '07804915': 2, '07804918': 1, '07804916': 1, '07961782': 2, '07962722': 4, '07504208': 4, '07961788%2CT%2C001': 1, '07801569': 1, '07961788%2CT%2C003%2CT%2C001': 1, '07962721': 1, '07961784%2CT%2C001': 1, '07962720': 2, '07961787': 2, '07961788%2CT%2C003%2CT%2C003': 1, '07961788%2CT%2C003%2CT%2C002': 1, '07961785%2CT%2C001': 1, '07856852': 1, '07961784': 1, '07961784%2CT%2C002': 1, '07961783': 1, '07856851': 1, '07961785': 1, '07961786': 1, '07961781': 1, '07504204': 1, '07961784%2CT%2C003': 1, '07961785%2CT%2C002': 1, '07962735': 1, '07804909%2CT%2C001': 7, '07856859%2CT%2C001': 1, '07962742': 1, '07856855%2CT%2C001': 1, '07804908': 3, '07962724': 4, '07856859%2CT%2C002': 2, '07856855': 6, '07961789': 1, '07801561': 1, '07856855%2CT%2C004': 1, '07962731': 1, '07856859%2CT%2C005%2CT%2C001': 1, '07856855%2CT%2C005': 1, '07856858%2CT%2C001': 1, '07962737': 1, '07856859%2CT%2C005%2CT%2C002': 2, '07962726': 1, '07500766%2CT%2C001': 1, '07500766%2CT%2C010': 1, '07962728': 1, '07856858%2CT%2C004': 2, '07962730': 1, '07962725': 1, '07856858%2CT%2C002': 2, '07962729': 1, '07962723': 1, '07856859%2CT%2C005%2CT%2C003': 1, '07856858%2CT%2C003': 1, '07856858': 1, '07804909': 3, '07856857': 4, '07962734': 1, '07962743': 1, '07856855%2CT%2C003': 1, '07856856': 1, '07962733': 1, '07856855%2CT%2C002': 1, '07856859%2CT%2C003': 1, '07856849': 1, '07962727': 2, '07856858%2CT%2C005': 1, '07962741': 1, '07500765': 1, '07856859%2CT%2C005%2CT': 1, '07856859%2CT%2C004': 1, '07961790%2CT%2C002': 2, '07804907': 6, '07580188': 1, '07804901': 3, '07930811': 1, '07804904': 2, '07804901%2CT%2C002': 7, '07804905': 2, '07961790': 1, '07804903': 2, '07804902': 2, '07804901%2CT%2C001': 4, '07804900': 1, '07804930': 1, '07961792': 1, '07962752': 1, '07804906': 1, '07961791': 1, '07804931%2CT%2C001': 6, '07962755': 2, '07804931': 8, '07856843': 1, '07856844': 1, '07962756': 2, '07856842': 1, '07962754': 4, '07962751': 2, '07962759': 1, '07962758': 1, '07804932': 1, '07804933': 1, '07856841': 1, '07962757': 2, '70008318': 2, '07856848': 1, '70008321': 4, '70008316': 2, '70008320': 3, '70008317': 2, '70008319': 4, '07856847': 1, '07856845': 1, '07856846': 1, '07804938': 10, '07804936': 6, '07804937': 4, '07804922': 17, '07804922%2CT%2C001': 1, '07804921': 9, '07804920%2CT%2C001': 5, '07804920': 5, '07855890': 1, '07804920%2CT%2C002': 6, '07962744': 2, '07855892': 1, '07855893': 1, '07962748': 1, '07962747': 1, '07855898': 1, '07962749': 14, '70008301': 8, '07962750': 7, '07962753': 8, '07962745': 3, '70000903': 1, '07605294': 1, '07962746': 1, '70000904': 1, '70008311': 1, '70008312': 6, '07804925': 3, '07804923': 9, '07804926': 4, '07504223%2CT%2C002%2CT': 2, '07504223%2CT%2C002%2CT%2C001': 2, '07804924': 3, '07504223%2CT%2C001': 5, '70008309': 1, '07504222': 2, '07804929': 1, '07804927': 1, '07804928': 1, '07962779': 1, '07962776': 1, '07962774': 1, '07962773': 1, '07962778': 1, '07962775': 1, '07580148': 1, '70007310': 2, '70007306': 3, '70007308': 1, '70007307': 1, '07962777': 1, '70007309': 4, '70004814': 1, '07705251': 13, '70007317': 1, '70004810': 1, '07705258': 5, '70007311': 1, '70007316': 1, '70007312': 1, '70004811': 1, '70007315': 1, '07705259': 1, '07599688': 1, '07962780': 1, '07599687': 2, '70007314': 1, '07580151': 1, '07705252': 2, '70007313': 1, '07599685': 1, '07601314': 1, '07580136': 1, '70004818': 14, '07962781': 1, '07962782': 1, '07580135': 1, '07962763': 2, '07962784': 1, '07605256': 1, '07962762': 1, '07962761': 1, '07962783': 1, '07580156': 1, '07605276': 1, '07962767': 1, '07962765': 1, '07962768': 1, '07962766': 1, '07580138': 1, '07705263': 22, '07705264': 13, '07705265': 6, '07605270': 2, '07705262': 6, '07705261': 14, '70004800': 1, '07962769': 1, '70004802': 2, '07700365': 3, '07701302': 1, '70007302': 1, '70004801': 2, '70007300': 1, '70004808': 1, '07705268': 10, '70004806': 1, '70007303': 1, '07599676': 1, '70004809': 1, '07705266': 1, '07705267': 1, '70004803': 1, '07705260': 2, '70004807': 1, '70007304': 1, '07962771': 1, '70004804': 1, '70007305': 1, '07962770': 1, '07962772': 1, '07705269': 1, '07856883': 1, '07856889%2CT%2C002%2CT': 2, '70004833': 25, '07705270': 39, '07705277': 3, '70004832': 1, '07705275': 3, '70004835': 1, '07705276': 5, '07705270%2CT%2C001': 3, '07705274': 5, '70004838': 3, '07501776': 1, '70004834': 1, '70004837': 1, '70000032': 1, '70004836': 1, '70000034': 1, '70000030': 1, '07705273': 5, '07705272': 2, '07705278': 5, '07505217': 6, '07705279': 2, '07505212': 1, '07505214%2CT%2C001': 3, '07705271': 1, '70003899': 1, '07505214%2CT%2C002': 1, '70004839': 1, '07963723': 8, '07962785': 1, '07962786': 1, '07962788': 1, '07580179': 2, '07962787': 1, '07580158': 1, '07605253': 1, '07705280': 4, '70007318': 1, '70007319': 1, '07962789': 1, '70007322': 1, '70007323': 1, '70004823': 1, '70004821': 1, '70007321': 1, '70004822': 1, '07962790': 1, '70004820': 1, '70007320': 1, '07603305': 3, '07876952': 7, '07876953': 2, '07930037%2CT%2C001%2CT%2C001': 1, '07580105': 1, '07603301': 2, '07876955': 1, '07603302': 1, '07603303': 1, '07876954': 1, '07962701': 1, '07962697': 5, '07962698': 12, '07962699': 1, '07905913': 1, '07876968': 1, '07876966': 1, '07876967': 1, '07876961': 11, '07876963': 12, '07876965': 2, '07876964': 7, '07704633%2CT%2C001%2CT%2C009': 1, '07704633%2CT%2C001%2CT%2C001': 1, '07704633%2CT%2C001%2CT%2C008': 1, '07930020': 1, '07962696': 1, '07962692': 1, '07962695': 1, '07962694': 1, '07962681': 1, '07962685': 1, '07962688': 1, '07962691': 1, '07962693': 1, '07962686': 1, '70006833': 8, '07856403': 3, '70006836': 2, '07962684': 6, '07990121': 3, '70008396': 1, '70008397': 1, '70008398': 1, '07857871': 1, '70006835': 2, '07580125': 1, '70008399': 1, '07503204': 14, '70006832': 4, '70006823': 4, '70006822': 1, '07877089': 1, '07877088': 3, '07580119': 1, '07877091': 6, '07877095': 1, '07877094': 1, '07877090': 1, '07855009%2CT%2C003': 2, '07855009%2CT%2C004': 1, '07855009': 1, '07855009%2CT%2C001': 4, '07855008': 3, '07599654': 1, '70004899': 1, '70004898': 11, '07877019': 5, '07877020': 4, '07877021': 3, '07877022': 5, '07962212': 1, '07962215': 5, '07962214': 2, '07962213%2CT%2C001': 3, '07877024': 5, '07877025': 3, '07877023': 5, '07877026': 3, '07962215%2CT%2C001': 1, '07962215%2CT%2C002%2CT%2C001': 1, '07598661': 1, '07963656': 1, '07962200%2CT%2C001': 1, '07962200%2CT%2C002': 1, '07962200%2CT%2C003': 1, '07877035': 1, '07962201': 1, '07877039': 1, '07877027': 3, '07877038': 1, '07962200': 1, '07877036': 1, '07877037': 1, '07877040': 1, '07877042': 1, '07877041': 1, '07877032': 4, '07877031': 8, '07877033': 1, '07877030': 4, '07962228': 1, '07962229': 1, '07652309': 15, '07962230': 4, '07877350': 3, '07652308': 5, '07962231%2CT%2C002': 1, '07500750%2CT%2C002': 1, '07962235': 1, '07962236': 1, '07962236%2CT%2C006': 1, '07962236%2CT%2C008': 1, '07962236%2CT%2C005': 1, '07962236%2CT%2C001': 1, '07962239': 2, '07962234': 2, '07962237': 2, '07962236%2CT%2C003': 1, '07962238': 2, '07580596': 1, '07962236%2CT%2C004': 1, '07962218': 1, '07962219': 1, '07962236%2CT%2C002': 1, '07962236%2CT%2C007': 1, '07877045': 3, '07877046': 5, '07877043': 1, '07962216': 1, '07877044': 3, '07962217': 1, '07962220': 3, '07962221': 3, '07962221%2CT%2C002': 1, '07962221%2CT%2C001': 1, '07962223%2CT%2C002%2CT%2C002': 1, '07962222': 4, '07962223%2CT%2C003%2CT%2C001': 1, '07962227': 3, '07962224%2CT%2C002': 1, '07962225': 1, '07962223%2CT%2C002%2CT%2C001': 1, '70006896': 1, '70006895': 1, '07874117': 10, '70006897': 1, '70006899': 8, '70006902': 1, '70006894': 1, '70006904': 1, '70006906': 1, '70006903': 1, '70006905': 1, '07874119': 1, '70006898': 1, '07962255': 1, '07855045%2CT%2C001': 5, '07874121': 1, '07962254': 2, '07855045': 4, '07962253': 2, '07962252': 7, '07874123': 2, '07855043': 1, '07855045%2CT%2C002': 1, '07962251': 2, '07962258': 1, '07962259': 2, '07962250': 1, '07874126': 1, '07855046': 7, '07857447': 1, '07962256%2CT%2C002': 1, '07962257%2CT%2C001': 2, '07962256%2CT%2C001': 2, '07962257%2CT%2C002': 2, '07962256%2CT%2C003': 1, '07874128': 1, '07874219': 3, '07874132': 36, '07874134': 2, '70006891': 3, '07874139': 2, '07874133': 1, '07874196': 13, '07962243': 7, '07874135': 15, '07962242': 3, '07962243%2CT%2C001': 1, '70007820': 1, '07874137': 11, '07855036%2CT%2C001': 1, '70006893': 4, '07855034%2CT%2C002': 1, '07962240': 2, '07855032%2CT%2C001': 1, '07962245': 2, '07855033': 2, '07855034%2CT%2C001': 1, '07962241': 3, '07962244': 2, '07500280%2CT%2C008': 1, '07962247': 1, '07962246': 1, '07855029': 4, '07962248': 7, '07855039%2CT%2C003': 1, '07874130': 1, '07855037': 2, '07857427': 1, '07962249': 1, '07855039%2CT%2C001': 1, '07855039': 1, '07962271': 1, '07962272': 7, '07874145': 3, '07962270%2CT%2C001': 2, '07960711': 8, '07963211': 1, '07962273': 1, '07874147': 1, '07962274': 2, '07960710': 1, '07962273%2CT%2C001': 1, '07960712': 1, '07652702': 1, '07960714%2CT%2C001%2CT%2C002': 2, '07960719': 7, '07960714%2CT%2C003%2CT%2C002': 3, '07963219': 1, '07960714%2CT%2C003%2CT%2C004': 2, '07960714%2CT%2C001%2CT%2C003': 1, '07962278': 2, '07960714%2CT%2C004': 9, '07963216': 1, '07960714%2CT%2C003%2CT%2C003': 3, '07960714%2CT%2C003%2CT%2C001': 1, '07652701': 1, '07855023': 2, '07855022': 2, '07960714%2CT%2C001%2CT%2C004': 1, '07962279': 3, '07960714%2CT%2C002%2CT': 1, '07960714%2CT%2C002%2CT%2C001': 1, '07960714': 4, '07960714%2CT%2C002%2CT%2C003': 1, '07960715': 2, '07960716': 4, '07960714%2CT%2C002%2CT%2C002': 1, '07963217': 1, '07960714%2CT%2C001%2CT%2C001': 3, '07603362%2CT%2C001': 1, '07855021': 1, '07874149': 1, '07603362%2CT%2C003': 1, '07603362%2CT%2C002': 1, '07963221': 1, '07855027': 4, '07855028%2CT%2C002': 2, '07874141': 3, '07960718%2CT%2C003': 2, '07855026%2CT%2C003': 1, '07652706': 1, '07855026%2CT%2C001': 1, '07960718%2CT%2C002': 3, '07652705': 1, '07963215': 3, '07652708': 2, '07855025': 3, '07857424': 1, '07963213': 1, '07963212': 1, '07855028': 1, '07960718': 1, '07652707': 1, '07855026%2CT%2C002': 1, '07874143': 1, '07652709': 1, '07963214': 2, '07960718%2CT%2C001': 2, '07855019%2CT%2C001': 4, '07857416': 1, '07855019%2CT%2C002': 1, '07962263%2CT%2C001': 1, '07874159': 1, '07962260': 2, '07962263%2CT%2C002': 1, '07962261%2CT%2C001': 1, '07962263%2CT%2C003': 1, '07962261%2CT%2C002': 1, '07874157': 1, '07962265': 1, '07960700': 1, '07960704': 1, '07962262': 1, '07962266': 1, '07960701': 1, '07960707': 6, '07874151': 1, '07960702%2CT%2C006': 12, '07960706': 15, '07874153': 2, '07960702%2CT%2C001': 6, '07960702': 1, '07960702%2CT%2C003': 1, '07960702%2CT%2C004': 1, '07960702%2CT%2C005': 2, '07855010': 1, '07960709': 4, '07960702%2CT%2C002': 1, '70006855': 1, '07874155': 1, '07603376': 1, '07960705': 1, '07962264%2CT%2C001': 1, '07962264%2CT%2C002': 2, '07960706%2CT%2C001': 1, '07962268': 2, '07960706%2CT%2C003': 1, '07960708': 1, '07960706%2CT%2C002': 1, '07960732': 1, '07877099': 3, '70006859': 1, '70006850': 1, '70006851': 1, '70006857': 1, '07962291': 1, '70006856': 1, '07962290': 3, '07877096': 1, '07502218': 3, '07520340': 1, '70006858': 1, '07962292': 4, '07960735': 5, '70000090': 13, '07960734': 1, '70006852': 1, '07652720': 1, '07603346': 1, '07855924': 1, '07963234': 2, '07854992': 4, '70000089': 4, '07962299': 6, '07962298': 3, '07603348': 1, '70006854': 1, '07877098': 2, '70006853': 1, '07960730': 1, '07960739': 1, '07855920': 1, '07652721': 1, '07960733': 1, '07960736%2CT%2C002': 1, '07960736%2CT%2C001': 1, '07856020': 1, '07855085%2CT%2C002': 1, '07877097': 1, '07963237': 32, '07960738%2CT%2C001': 1, '07855925': 2, '07963232': 1, '07963239': 13, '07963236': 6, '07856029': 1, '07960737%2CT%2C003': 1, '07856024': 2, '07856026': 1, '07963231': 1, '07963233': 1, '07960738%2CT%2C002': 1, '07960737%2CT%2C004': 1, '07856028': 1, '07960737%2CT%2C001': 1, '07963241': 1, '07960737%2CT%2C002': 1, '07705617': 38, '70006849': 1, '70006846': 1, '07855081%2CT%2C002': 1, '07962282': 2, '07855080': 1, '70006845': 1, '07962283': 1, '07962284%2CT%2C003': 5, '07962280': 1, '07962280%2CT%2C002': 1, '07962285': 4, '07962284%2CT%2C001': 2, '07962280%2CT%2C003': 1, '07960721': 2, '07962284%2CT%2C002': 1, '07960724': 2, '07960722': 2, '07962280%2CT%2C001': 1, '07962284%2CT%2C004': 1, '07960723': 4, '07960720': 3, '07962287': 1, '07962286': 2, '07962281': 2, '07962280%2CT%2C004': 1, '07963223': 1, '07650321': 1, '07960728': 5, '07963224': 4, '07856015': 2, '07856010': 1, '07652715': 1, '07652713': 2, '07960725%2CT%2C002': 5, '07705618': 16, '07856016': 1, '07856017': 1, '07603356': 1, '07960727': 4, '07652711': 1, '07873159': 1, '07603350': 1, '07855915': 1, '07960725%2CT%2C001': 5, '07960725': 1, '07652714': 1, '07960726': 2, '07855911': 1, '07856013': 1, '07855910': 1, '07856014': 2, '07962288': 1, '07652712': 2, '07963226': 1, '07960729': 1, '07962289': 2, '07855913': 1, '07855918': 1, '07652716': 1, '07963227': 1, '07652719': 2, '07652717': 2, '07652718': 2, '07705627': 45, '07960752': 5, '07520324%2CT%2C001': 10, '07520324': 2, '70000516': 2, '70006871': 1, '07520324%2CT%2C003': 2, '70000517': 1, '07520324%2CT%2C002': 2, '70006870': 1, '07960751': 1, '70007818': 1, '70006874': 1, '07960753': 8, '07855070': 6, '70006875': 1, '07874103': 1, '07960754': 1, '70006876': 1, '70006878': 2, '07963251': 4, '07855071': 2, '70006877': 1, '07855071%2CT%2C003': 2, '07855071%2CT%2C002': 4, '07963250': 2, '70006872': 1, '07650331': 1, '07963258': 2, '07855071%2CT%2C001': 1, '07963257': 1, '07960755': 1, '07963259': 1, '70006873': 1, '07960750': 1, '07960756': 1, '07873166': 2, '07960757': 1, '07963256': 1, '07855905': 1, '07855903': 1, '07963254': 2, '07856002': 2, '07811440': 1, '07963253': 2, '07963271': 10, '07855906': 1, '07856000': 1, '07855904': 1, '07963252': 3, '07855069': 4, '07963255': 1, '07874101': 1, '07873168': 1, '07856001': 1, '07856005': 1, '70007819': 1, '07856004': 1, '07811441': 1, '70000520': 23, '70006868': 1, '70007803': 4, '07855909': 1, '70007802': 1, '70006867': 1, '70000509': 4, '07856008': 1, '07873160': 3, '07856006': 1, '07856007': 1, '70007800': 1, '07855908': 2, '07873162': 1, '70006869': 1, '70007805': 8, '07960740%2CT%2C005%2CT%2C001': 2, '07960740%2CT%2C001%2CT%2C001': 2, '70006861': 2, '07960743': 2, '07960740%2CT%2C002%2CT%2C001': 2, '07874107': 2, '07960740%2CT%2C003%2CT%2C001': 2, '70000507': 1, '07960740%2CT%2C004%2CT%2C001': 2, '70006860': 1, '70007801': 1, '07874105': 1, '70007804': 1, '07960745': 1, '70006865': 4, '70006866': 4, '07963247': 14, '07874109': 4, '07960741': 1, '70006864': 2, '70006863': 1, '07960748': 4, '07874115': 3, '07960746%2CT%2C001': 1, '07963246': 3, '07960744': 1, '07960746%2CT%2C002': 1, '07960742': 1, '07960747': 1, '07874111': 1, '07963245': 1, '07874112': 1, '07963243': 1, '07855059': 9, '07963244': 1, '07874114': 6, '07963242': 1, '07855057': 1, '07855056': 1, '70000511': 1, '07960749': 1, '07961847': 8, '07856072': 1, '07961845%2CT%2C001': 1, '07856076': 1, '07856068': 1, '07856071': 1, '07856066': 1, '07855968': 1, '07857000': 1, '07961845%2CT%2C002': 1, '07855973': 1, '07855974': 1, '07855975': 1, '07961849': 1, '07856065': 1, '07961846%2CT%2C001': 3, '07855972': 1, '07961848': 1, '07961846': 1, '07855967': 1, '07855976': 1, '07855966': 1, '07855977': 1, '07856067': 1, '07856907': 5, '07857007': 1, '07856904': 1, '07856905': 2, '07857005': 1, '07856906%2CT%2C002%2CT%2C001': 1, '07857004': 4, '07857008': 1, '07856908': 1, '07857002': 1, '07856906': 4, '07857003': 1, '07856906%2CT%2C002%2CT': 6, '07857009': 1, '07857006': 1, '07856906%2CT%2C001%2CT': 1, '07856909': 1, '07857001': 1, '07856069': 1, '07856906%2CT%2C001%2CT%2C001': 1, '07502861%2CT%2C002': 1, '07960890': 1, '07651199': 1, '07502861%2CT%2C003': 1, '07502863': 2, '07502860%2CT%2C001%2CT%2C003': 1, '07963390': 3, '07502862': 2, '07963391': 6, '07963399': 1, '07855963': 1, '07856062': 1, '07855955': 1, '07963401': 1, '07855956': 1, '07856064': 1, '07963398': 1, '07963402': 1, '07855961': 1, '07856060': 1, '07963400': 1, '07601660%2CT%2C041': 1, '70007650': 2, '07961861': 2, '07961865': 2, '70000393': 1, '07961864%2CT%2C002': 4, '70000383': 5, '07961866%2CT%2C001': 6, '07961862': 7, '07961867': 2, '07961869': 1, '07961864%2CT%2C001': 3, '70000382': 1, '70000388': 2, '07855950': 1, '70000389': 1, '07855952': 1, '70000390': 1, '70000385': 1, '70000391': 1, '07855951': 1, '70000392': 1, '07856041': 1, '07856051': 1, '07960408%2CT%2C002': 3, '07960408': 9, '07962809': 1, '07855942': 1, '07960408%2CT%2C001': 1, '07961852': 1, '07961850%2CT%2C002': 1, '70000373': 4, '07961851': 1, '07961850%2CT%2C001': 1, '07855931': 1, '07961854': 2, '07873619': 5, '07873616': 1, '07931949': 1, '07856950': 1, '07962821': 2, '07856951': 1, '07961889%2CT%2C001': 1, '07873617': 1, '07962820': 1, '07961887%2CT%2C001%2CT': 3, '07856957': 2, '07857055': 14, '07857056%2CT%2C001': 5, '07857051': 2, '07857050%2CT%2C001': 5, '07857051%2CT%2C002': 3, '07857053%2CT%2C001': 3, '07857056': 6, '07856955': 6, '07961887%2CT%2C001%2CT%2C001': 1, '07962823': 4, '07857053%2CT%2C002': 3, '07856952': 1, '07962829': 2, '07962822': 9, '07857053%2CT%2C003': 16, '07857051%2CT%2C003': 6, '07857051%2CT%2C001': 5, '07857051%2CT%2C005': 10, '07874169': 1, '07857050': 9, '07857045': 1, '07856953': 2, '07857055%2CT%2C001': 2, '07857052%2CT%2C004': 1, '07857052%2CT%2C005': 1, '07962825': 2, '07857052': 1, '07856954': 1, '07857052%2CT%2C003': 1, '07857052%2CT%2C002': 1, '07856947': 1, '07857052%2CT%2C001': 1, '07856946': 1, '07856956': 3, '07857046': 1, '07857054': 1, '07857051%2CT%2C004': 1, '07857053': 3, '07857053%2CT%2C004': 3, '07857048': 11, '07857048%2CT%2C001': 2, '07962827': 2, '07856949': 1, '07857049': 9, '07856948': 1, '07857049%2CT%2C003': 1, '07874163': 1, '07874161': 1, '07857049%2CT%2C002': 1, '07857048%2CT%2C002': 2, '07857047': 1, '07857049%2CT%2C005': 1, '07857049%2CT%2C006': 1, '07857049%2CT%2C001': 1, '07857049%2CT%2C004': 1, '07874167': 1, '07874165': 1, '07856941': 1, '07961871': 4, '07856943': 4, '07857044': 2, '07856940': 1, '07961877': 1, '07961873': 2, '07962810': 1, '07962811': 1, '07961878': 1, '07962813': 1, '07961879': 1, '07856945': 3, '07857040': 1, '07962812': 2, '07857043': 1, '07856944': 1, '07961876%2CT%2C004': 1, '07857041': 1, '07874171': 1, '07857042': 1, '07961872': 1, '07856942': 1, '07857038': 5, '07857034': 4, '07857033': 2, '07857035': 3, '07856938': 1, '07857037%2CT%2C001': 4, '07856937': 1, '07857036': 3, '07857037': 3, '07962818': 1, '07962817': 1, '07857036%2CT%2C001': 3, '07856936%2CT%2C003': 1, '07962816': 1, '07857039': 1, '07856939': 1, '07856936%2CT%2C004': 1, '07856935': 3, '07599368': 4, '07856936': 1, '07856934': 2, '07856936%2CT%2C001': 1, '07962815': 1, '70001771': 1, '07856936%2CT%2C002': 1, '07856936%2CT%2C005': 1, '07962814': 1, '07962819': 1, '07874175': 1, '07874177': 1, '07874179': 1, '07874173': 1, '07962840': 1, '07874183': 4, '07874181': 1, '07856932%2CT%2C001': 16, '07500012%2CT%2C007': 6, '07856931%2CT%2C008': 1, '07857031%2CT%2C002%2CT%2C001': 4, '07856931%2CT%2C023': 1, '07857030%2CT%2C001%2CT%2C001': 4, '07856931%2CT%2C001': 1, '07857030%2CT%2C001%2CT%2C002': 2, '07857030%2CT%2C002%2CT%2C001': 6, '07856931': 4, '07856932%2CT%2C003': 2, '07856931%2CT%2C006': 1, '07856931%2CT%2C025': 1, '07500012%2CT%2C003': 7, '07962845': 2, '07856932%2CT%2C004': 1, '07857030%2CT%2C002%2CT': 2, '07857030%2CT%2C001%2CT': 4, '07500012%2CT%2C005': 4, '07856931%2CT%2C015': 1, '07962842': 1, '07857031%2CT%2C002%2CT%2C002': 4, '07856931%2CT%2C022': 1, '07962843': 1, '07856093%2CT%2C001': 1, '07856931%2CT%2C035': 1, '07500012%2CT%2C001': 5, '07962850': 1, '07856931%2CT%2C038': 1, '07856931%2CT%2C029': 1, '07856931%2CT%2C002': 1, '07500012%2CT%2C008': 5, '07856931%2CT%2C014': 1, '07856931%2CT%2C030': 1, '07856931%2CT%2C017': 1, '07856931%2CT%2C004': 1, '07856931%2CT%2C032': 1, '07857030%2CT%2C001%2CT%2C003': 1, '07856931%2CT%2C010': 1, '07856931%2CT%2C034': 1, '07856931%2CT%2C005': 1, '07856931%2CT%2C013': 1, '07857030': 1, '07856931%2CT%2C024': 1, '07856931%2CT%2C039': 1, '07500012%2CT%2C004': 5, '07856931%2CT%2C012': 1, '07856931%2CT%2C007': 1, '07856933': 1, '07856094%2CT%2C001': 1, '07856931%2CT%2C037': 1, '07856931%2CT%2C009': 1, '07855998': 1, '07856931%2CT%2C011': 1, '07856931%2CT%2C028': 1, '07856931%2CT%2C003': 1, '07856931%2CT%2C033': 1, '07500012%2CT%2C006': 2, '07856931%2CT%2C018': 1, '07856932%2CT%2C002': 1, '07856931%2CT%2C031': 1, '07857031%2CT%2C001%2CT%2C002': 4, '07856931%2CT%2C021': 1, '07856930': 1, '07962849': 1, '07856099': 3, '07856931%2CT%2C019': 1, '07962848': 2, '07857031%2CT%2C001%2CT%2C001': 2, '07856931%2CT%2C020': 1, '07856931%2CT%2C016': 1, '07857031%2CT%2C001%2CT': 1, '07856931%2CT%2C036': 1, '07856931%2CT%2C027': 1, '07856931%2CT%2C026': 1, '07856095': 1, '07857023': 1, '07856926': 2, '07857021%2CT%2C001': 1, '07856925': 6, '07857026': 1, '07857021': 4, '07857024': 1, '07857025': 1, '07856924': 1, '07856923': 1, '07856928': 1, '07857022': 1, '07857028': 1, '07856927': 1, '07857027%2CT%2C001': 1, '07961892%2CT%2C005': 1, '07931079': 7, '07961892%2CT%2C001': 1, '07857029%2CT%2C001': 1, '07857029': 9, '07961892%2CT%2C002': 1, '07874188': 1, '07961890%2CT%2C001': 1, '07961897%2CT%2C001': 1, '07874190': 1, '07961893%2CT%2C003': 1, '07961890%2CT%2C002': 2, '07961897%2CT%2C002': 2, '07961892': 1, '07961892%2CT%2C004': 1, '07874185': 1, '07961892%2CT%2C003': 1, '07857029%2CT%2C002': 1, '07874186': 1, '07962832': 1, '07962833': 1, '07962834': 1, '07874194': 2, '07961896': 1, '07961899': 1, '07962835': 1, '07874192': 1, '07962831': 1, '07962837': 1, '07962830': 1, '07856912%2CT%2C001': 1, '07856912%2CT%2C002': 1, '07962838': 1, '07856911': 1, '07962836': 1, '07857020': 2, '07855979': 1, '07857010': 1, '07856910': 1, '07855989': 1, '07962841': 1, '07857014%2CT%2C002': 1, '07856918': 3, '07857013%2CT%2C011': 1, '07857013%2CT%2C004': 1, '07874198': 4, '07857013%2CT%2C006': 1, '07857011': 1, '07857013%2CT%2C009': 1, '07856915': 3, '07856914': 7, '07857013%2CT%2C002': 1, '07857012%2CT%2C005': 1, '07857012%2CT%2C003': 1, '07856913': 1, '07857012%2CT%2C002': 1, '07857013%2CT%2C005': 1, '07857013%2CT%2C003': 1, '07857013%2CT%2C010': 1, '07857017': 1, '07857013%2CT%2C008': 1, '07857014%2CT%2C001': 1, '07857013%2CT%2C007': 1, '07857013%2CT%2C001': 1, '07857012%2CT%2C001': 1, '07857016': 1, '07857018': 1, '07857012%2CT%2C004': 1, '07856916': 1, '07857015': 2, '07856917': 1, '07857014%2CT%2C003': 1, '07857019': 26, '07874197': 2, '07601216': 3, '07856990': 7, '07857091': 1, '07856993': 1, '07960462%2CT%2C001': 1, '07603616%2CT%2C001': 6, '07857019%2CT%2C001': 4, '07960465': 1, '07603616': 4, '07960464%2CT%2C001': 2, '07856992': 3, '07960464': 1, '07960465%2CT%2C001': 1, '07962861': 2, '07857093': 1, '07856991': 1, '07857090': 1, '07873666': 1, '07873668': 1, '07857098': 4, '07961404': 2, '07856994': 1, '07857095': 2, '07962865': 2, '07961400': 5, '07857094': 2, '07857096': 2, '07961405': 1, '07960467': 1, '07961402': 1, '07857097': 2, '07856997%2CT%2C001': 1, '07857092': 2, '07961403': 1, '07856999': 1, '07856996': 1, '07857930': 1, '07962869': 2, '07961401': 1, '07960469': 1, '07856995': 1, '07856998': 3, '07960468': 1, '07962863': 2, '07856997': 1, '07873660': 1, '07601210%2CT%2C003': 1, '07961408': 11, '07857099': 4, '07962867': 2, '07961407': 1, '07705166': 2, '07705165': 1, '70004727': 4, '07961406': 1, '07873664': 1, '07961409': 3, '07873662': 1, '07705167': 2, '70004729': 1, '70004728': 1, '07705161': 8, '07931058': 10, '07705161%2CT%2C001': 7, '07877106': 6, '07705168': 2, '07877104': 2, '07877105': 1, '07857080': 1, '07873679': 3, '07857083': 1, '07857084': 1, '07873677': 1, '07877103': 3, '07877111': 4, '07857081': 1, '07605188': 1, '07856984': 1, '07877100': 2, '07856982': 3, '07856980': 1, '07960473%2CT%2C001': 1, '07962852': 2, '07856981': 2, '07877102': 1, '07931055': 1, '07856983': 1, '70006270': 1, '07877101': 1, '07857082': 1, '07857088': 9, '07856986%2CT%2C003%2CT%2C007': 1, '07856986%2CT%2C002': 6, '07873670': 5, '07857089': 2, '07856986%2CT%2C003%2CT%2C002': 1, '07601222': 1, '07856985': 6, '07962857': 2, '07856989': 1, '07856986%2CT%2C001': 4, '07873673': 2, '07601221': 1, '07856989%2CT%2C001': 3, '07856986%2CT%2C003%2CT%2C004': 1, '07962855': 2, '07856987': 2, '07873675': 1, '07856986%2CT%2C003%2CT%2C003': 1, '07857086': 3, '07856986': 1, '07857087': 2, '07857085': 1, '07873671': 1, '07856988': 1, '07856986%2CT%2C003%2CT%2C005': 1, '07856986%2CT%2C003%2CT%2C006': 1, '07605182': 1, '07856986%2CT%2C003%2CT%2C001': 1, '07962859': 2, '07500892': 1, '70006274': 1, '07877116': 20, '07877115': 7, '07961421': 2, '07856971': 8, '07856970': 1, '07961420%2CT%2C002': 2, '07605151': 2, '07877113': 1, '07873689': 1, '07961424': 3, '07961425%2CT%2C001': 1, '07877118': 1, '70006275': 1, '07877112': 1, '07877114': 1, '70004745': 1, '07873683': 3, '70004741': 1, '07705182': 15, '07856972': 23, '07873687': 1, '07857070': 1, '07873684': 2, '07605154': 2, '07961422%2CT%2C003': 1, '70004742': 1, '07857073': 1, '07605153': 2, '07857076': 1, '07856977': 1, '07961429': 3, '07873681': 1, '07961422%2CT%2C004': 1, '70004743': 1, '07961422': 4, '07961422%2CT%2C001': 1, '07857074': 1, '07856975': 1, '07961426%2CT%2C001': 1, '07961422%2CT%2C008': 1, '07857072': 1, '07873686': 1, '07705183': 2, '07961428': 2, '07961423': 1, '07857075': 1, '07856976': 1, '07961427': 2, '70004744': 1, '07961422%2CT%2C012': 1, '07856973': 1, '07856974': 1, '07961422%2CT%2C005': 1, '70004740': 1, '07857077': 1, '07705189': 1, '07856978': 1, '07905979': 3, '07856979': 1, '07857069': 1, '07857078': 1, '07873688': 1, '07857079': 1, '07703620': 1, '70004747': 6, '07705184': 21, '07705187': 8, '07877129': 5, '07705186': 12, '70004748': 3, '07705185': 15, '07873691': 1, '07960492': 1, '70004746': 3, '07501862%2CT%2C001': 1, '07705188': 3, '70004749': 1, '07960494': 2, '07877128': 2, '07960494%2CT%2C004': 5, '07962896': 1, '07960494%2CT%2C001': 2, '07960494%2CT%2C003': 1, '07962895': 1, '07962894': 1, '07605147': 2, '07962893': 2, '07877127': 2, '07962890': 1, '07960494%2CT%2C002': 1, '07962897': 1, '07962898': 1, '07962873': 2, '07605169': 1, '07605168': 1, '07960495': 1, '07961416%2CT%2C002': 2, '07960478%2CT%2C001%2CT': 13, '07960478%2CT%2C004%2CT': 4, '07962871': 2, '07856963': 4, '07961411%2CT%2C006': 1, '07961417': 3, '07856960': 6, '07960478%2CT%2C004%2CT%2C003': 1, '07961416%2CT%2C001': 2, '07705192': 2, '07962876': 1, '07877131': 2, '07960478%2CT%2C003': 5, '07877130': 1, '07960478%2CT%2C004%2CT%2C001': 3, '07961411': 5, '70004733': 1, '07960478%2CT%2C004%2CT%2C004': 4, '07856963%2CT%2C002': 1, '07961415%2CT%2C001': 2, '07856962': 11, '07960478%2CT%2C005': 11, '07961410': 1, '70004731': 1, '07856963%2CT%2C004': 1, '07857060': 4, '07873693': 1, '07961411%2CT%2C001': 1, '07873695': 1, '07856963%2CT%2C003': 1, '70004732': 1, '07930091': 1, '07856961': 1, '07857062': 1, '07961412': 1, '07856963%2CT%2C001': 1, '07962874': 1, '07960479%2CT%2C001': 1, '07960478%2CT%2C004%2CT%2C002': 5, '07962875': 1, '07961411%2CT%2C009': 1, '07857061': 3, '07961413': 1, '07961411%2CT%2C008': 1, '07960478%2CT%2C002': 1, '07857063%2CT%2C002': 1, '07705190': 8, '07705191': 3, '07857063%2CT%2C001': 1, '07857058': 9, '07961418': 2, '07873697': 1, '07961414': 2, '70004730': 3, '07856958': 1, '07857064': 2, '07856968': 1, '07961419%2CT%2C001': 2, '07856966': 2, '07857066': 1, '07961414%2CT%2C001': 1, '07856969': 1, '07873699': 1, '07856965': 1, '07857068': 1, '07605162': 1, '07857067': 1, '07857058%2CT%2C001': 1, '07856964': 1, '07857065': 1, '07856967': 1, '07857059': 12, '07960481%2CT%2C002': 1, '70004735': 1, '70004736': 1, '07857057': 3, '70004738': 1, '70004739': 1, '70004737': 1, '70004734': 1, '07856959': 2, '07960480%2CT%2C001': 1, '07961442': 6, '07930087': 6, '07960483%2CT%2C001': 8, '07930087%2CT%2C002': 1, '07930087%2CT%2C001%2CT%2C002': 5, '07961449': 1, '07930087%2CT%2C001%2CT%2C009': 5, '07961449%2CT%2C002': 2, '07961445': 3, '07961449%2CT%2C001': 2, '07961444': 1, '07961443': 1, '07930087%2CT%2C001%2CT%2C003': 1, '07930087%2CT%2C001%2CT%2C001': 2, '07930087%2CT%2C001%2CT%2C011': 1, '07930087%2CT%2C001%2CT%2C010': 2, '07580278': 1, '07930087%2CT%2C001%2CT%2C004': 1, '07930087%2CT%2C001%2CT%2C013': 2, '07930087%2CT%2C001%2CT': 1, '07873636': 3, '07600230': 1, '07961448': 1, '07873623': 4, '07961446': 6, '07873624': 2, '07873621': 2, '07873622': 3, '07961447': 1, '70006247': 1, '70006249': 1, '07873628': 1, '07873625': 1, '07873626': 2, '07873627': 1, '07961436': 8, '07961451%2CT%2C001': 1, '07873635': 5, '07605144': 1, '07961431%2CT%2C002': 1, '07961430': 10, '07961433%2CT%2C001': 2, '07873632': 1, '07961433%2CT%2C002': 2, '07961431%2CT%2C001': 1, '07961437%2CT%2C001': 3, '07960499%2CT%2C001': 6, '07605125': 1, '07961432': 2, '07961451': 1, '07961450': 2, '07873630': 1, '07605141': 1, '07961433': 1, '07961437%2CT%2C002': 2, '07961451%2CT%2C002': 1, '07605145': 1, '07961435': 3, '07962899': 2, '07961434': 3, '70000399': 1, '70000394': 5, '07501876%2CT%2C003%2CT%2C012%2CT%2C003': 3, '07961438': 4, '07856505': 7, '07501876%2CT%2C003%2CT%2C005': 2, '07961439': 4, '07501876%2CT%2C003%2CT%2C006%2CT%2C002': 1, '07501876%2CT%2C003%2CT%2C006%2CT%2C001': 1, '07501876%2CT%2C003%2CT%2C004%2CT%2C001': 1, '07501876%2CT%2C003%2CT%2C012%2CT%2C001': 2, '07501876%2CT%2C003%2CT%2C007': 1, '70000395': 1, '07501876%2CT%2C003%2CT%2C010': 2, '07501876%2CT%2C002%2CT%2C011': 2, '07501876%2CT%2C002%2CT%2C008': 1, '07501876%2CT%2C003%2CT%2C011': 1, '07501876%2CT%2C003%2CT%2C002%2CT%2C001': 1, '07501876%2CT%2C003%2CT%2C008': 1, '07501876%2CT%2C002%2CT%2C003': 1, '07501876%2CT%2C003%2CT%2C009': 1, '70000396': 1, '07581107': 2, '07501876%2CT%2C002%2CT%2C009': 1, '07501876%2CT%2C001%2CT%2C001%2CT%2C001': 2, '07501876%2CT%2C003%2CT%2C003': 1, '07501876%2CT%2C003%2CT%2C001': 1, '07873640': 1, '07873639': 2, '07905968': 1, '07961441': 7, '07873642': 14, '07961468%2CT%2C001': 1, '07961440': 2, '07580273': 2, '07873638': 2, '07961469': 1, '07602613': 8, '07873641': 2, '07873643': 7, '07962400': 1, '07605136': 3, '07873637': 1, '07962401': 1, '07873644': 1, '07605138': 1, '07962402': 11, '07962403': 1, '07873645': 6, '07962404': 1, '07961466': 4, '07651188': 4, '07873646': 2, '07962405': 1, '07873647': 1, '07962403%2CT%2C001': 1, '07961467%2CT%2C001': 1, '07873648': 1, '07962409': 1, '70006268': 1, '07962408': 1, '07905932': 1, '07962406': 1, '07962407': 1, '07960012%2CT%2C002%2CT': 3, '07961471': 3, '07960012%2CT%2C003%2CT%2C002': 2, '70006262': 1, '07960012%2CT%2C003%2CT%2C001': 4, '07960012%2CT%2C002%2CT%2C002': 1, '70006264': 1, '07905937': 1, '07961472%2CT%2C001': 1, '07960012%2CT%2C004': 1, '07960012%2CT%2C002%2CT%2C001%2CT%2C001': 1, '07961477': 1, '70006260': 1, '07605108': 1, '07605109': 1, '07960012%2CT%2C002%2CT%2C003': 1, '07961470': 1, '07961476': 1, '07651196': 12, '07961475': 1, '70006265': 1, '07961457': 2, '07961456': 1, '07961459': 1, '70006267': 1, '07873654': 1, '07873656': 1, '07873658': 3, '07961458': 3, '07961459%2CT%2C001': 1, '07873652': 1, '70006257': 1, '07873650': 1, '70006256': 1, '07961461': 2, '07961460%2CT%2C001': 1, '07858042': 1, '07858039': 3, '07580290': 1, '07961460': 2, '70006259': 3, '07905946': 1, '07580296': 2, '70006250': 1, '07961460%2CT%2C002': 1, '70006251': 1, '07605119': 1, '07652278': 1, '07652279': 1, '07858038': 1, '70003343': 1, '70003345': 11, '70003344': 6, '07961463%2CT%2C002': 8, '07961465%2CT%2C005': 2, '07605112': 1, '07961463%2CT%2C001': 4, '07930040%2CT%2C001': 1, '70003342': 1, '07961462': 9, '07580231': 1, '07580233': 1, '07961463%2CT%2C003': 4, '07961465%2CT%2C004': 1, '07961465': 1, '07961465%2CT%2C006': 1, '07961465%2CT%2C003': 2, '70006252': 1, '07961465%2CT%2C001': 1, '07961465%2CT%2C002': 3, '07961464': 1, '70006255': 1, '70006254': 1, '07580299': 1, '07580232': 1, '70006253': 1, '07705953%2CT%2C002': 1, '07705953%2CT%2C001': 1, '07580236': 1, '07705953': 1, '07705952%2CT%2C003': 2, '07705958%2CT%2C001': 2, '07705951': 1, '07705950%2CT%2C001': 8, '07705950': 4, '07601298%2CT%2C002': 2, '07873226': 1, '07705952': 1, '07705958%2CT%2C002': 1, '07705958': 1, '07705956': 1, '07705952%2CT%2C001': 2, '07601298': 1, '07705959%2CT%2C003': 1, '07705959%2CT%2C002': 2, '07962300': 2, '07705959%2CT%2C001': 3, '70004796': 3, '70004793': 8, '70003332': 1, '70000836': 1, '70007292': 4, '70004795': 2, '70004797': 4, '70003330': 4, '70004794': 3, '07705960': 2, '70003333': 1, '07503314%2CT%2C002%2CT%2C002': 1, '70000838': 1, '70007294': 6, '70000835': 1, '70003331': 1, '70000837': 1, '70000834': 1, '70000833': 1, '70007299': 9, '70004792': 7, '70007296': 3, '70004791': 3, '70004790': 1, '07580222': 1, '70000831': 1, '70000832': 1, '70004799': 6, '07705961%2CT%2C001': 3, '70000841': 1, '70003339': 2, '70000843': 1, '70000850': 1, '70003338': 9, '07705962': 2, '07705963': 3, '70000842': 1, '70000847': 1, '70003340': 4, '70003336': 1, '70000849': 1, '70003341': 5, '70000848': 1, '70003337': 3, '70007291': 3, '70000854': 1, '70000853': 1, '70000846': 1, '70000852': 1, '70000845': 1, '70000851': 1, '70000844': 1, '70003335': 2, '07705964': 1, '70003334': 2, '70004798': 1, '07962315': 1, '70003364': 4, '07962313': 7, '07962316': 1, '07962314': 1, '07701178': 5, '07962319': 1, '07962318': 2, '70003363': 11, '70003361': 6, '07962317': 1, '07701178%2CT%2C001': 1, '07962323%2CT%2C001': 2, '07962323': 2, '07873256': 1, '07962324': 1, '07962320': 1, '07599791': 1, '70003357': 7, '07962322': 3, '07705981': 3, '07705983': 6, '07705981%2CT%2C001': 3, '07962304': 6, '07705982%2CT%2C001': 1, '07701186': 1, '07705982': 1, '07962321': 1, '07705984': 3, '70003350': 2, '70003352': 1, '07873257': 1, '07962308': 2, '07705984%2CT%2C001': 1, '07580249': 1, '07705980': 10, '07962301%2CT%2C001': 2, '07962305%2CT%2C001': 2, '07962305%2CT%2C004': 1, '07962305%2CT%2C002': 2, '07930134': 1, '07962305': 5, '07962305%2CT%2C003': 1, '07580247': 1, '07705980%2CT%2C001': 1, '07962306': 2, '07962307': 1, '70003353': 1, '70003359': 2, '70003358': 4, '07705987': 1, '07705985': 1, '07705986%2CT%2C001': 2, '07874200': 2, '07705986%2CT%2C002': 3, '07705986': 1, '07705986%2CT%2C004': 1, '70003360': 7, '07599783': 1, '07599784': 1, '70008327': 3, '70008332': 4, '70008331': 3, '70000801': 1, '07962337': 1, '07580252': 1, '07962338': 3, '70008333': 4, '07599786': 2, '70004760': 3, '07962339': 1, '70008330': 4, '70008335': 2, '70000802': 1, '70000800': 1, '70003306': 6, '70004767': 4, '70004768': 4, '07599734': 5, '70003308': 8, '70003305': 3, '70003307': 4, '70004769': 8, '70004766': 1, '07599739': 1, '70000808': 1, '70000807': 1, '70004765': 1, '70004764': 1, '70004763': 5, '70004761': 1, '70000806': 3, '70004762': 1, '07703518': 9, '07705913%2CT%2C002': 1, '07703518%2CT%2C001': 2, '07705910': 5, '07705914': 5, '07703518%2CT%2C011': 1, '07705913%2CT%2C001': 2, '07703518%2CT%2C013': 6, '07705911': 5, '07703518%2CT%2C002': 1, '07705915%2CT%2C001': 3, '07705915%2CT%2C006': 1, '07705915%2CT%2C007': 1, '07703518%2CT%2C004': 3, '07705915': 4, '07703518%2CT%2C006': 1, '07705916': 1, '07703518%2CT%2C010': 5, '07705913': 1, '07703518%2CT%2C007': 4, '07703518%2CT%2C012': 3, '07705913%2CT%2C003': 1, '07703518%2CT%2C003': 1, '07705913%2CT%2C006': 1, '07705915%2CT%2C005': 1, '07703518%2CT%2C005': 1, '07705915%2CT%2C004': 1, '07705915%2CT%2C002': 1, '07705913%2CT%2C004': 1, '07705913%2CT%2C005': 1, '07705915%2CT%2C003': 1, '07855126%2CT%2C002': 4, '70007266': 1, '70007268': 2, '70007265': 5, '70007269': 1, '07857531': 2, '70007264': 1, '07962348': 2, '07962343': 5, '07962328': 3, '07705918': 2, '07962346': 6, '07857532': 1, '07705919': 1, '07962344': 1, '07962346%2CT%2C001': 2, '70007267': 3, '07857530': 1, '07855126': 1, '07503361': 1, '07962343%2CT%2C001': 1, '07705917': 1, '07962345': 1, '07855126%2CT%2C003': 2, '07855126%2CT%2C001': 1, '07962326%2CT%2C004': 1, '07604608': 2, '07962327%2CT%2C002': 1, '07962327%2CT%2C001': 2, '07962326%2CT%2C003': 1, '70004757': 2, '07962326%2CT%2C001': 1, '07962325': 1, '07962326%2CT%2C002': 1, '70004750': 12, '70004754': 6, '07810526': 2, '70004752': 2, '07705920': 1, '70004755': 1, '70004756': 2, '07599726': 1, '07810523': 1, '70004753': 1, '07810525': 1, '07961396': 2, '07705924': 1, '07961399': 2, '07961395': 1, '07705925': 1, '07961394': 1, '07705921': 3, '07651206': 2, '07705927': 3, '07961399%2CT%2C002%2CT': 1, '07705923': 4, '07961399%2CT%2C003': 2, '70004759': 2, '07706025': 1, '07810522': 1, '07651208': 4, '07705928': 1, '07705922': 2, '70004758': 2, '07705926': 1, '07961393': 1, '07961399%2CT%2C001%2CT%2C002': 1, '07651202': 1, '07961399%2CT%2C001%2CT%2C003': 1, '07962332': 1, '07705929': 5, '70004783': 29, '70004784': 19, '07962330%2CT%2C002': 1, '07961398': 2, '07961397%2CT%2C001': 1, '07962330%2CT%2C004': 1, '07962335': 4, '07962330%2CT%2C001': 2, '07962330': 1, '70003320': 1, '07961397': 1, '07962336%2CT%2C001': 1, '07962330%2CT%2C003': 1, '70004785': 1, '07962336': 1, '07962333': 2, '07961397%2CT%2C002': 1, '07961397%2CT%2C003': 2, '70004782': 5, '70000825': 1, '70000822': 1, '70000830': 1, '70004780': 2, '70000821': 2, '70000827': 1, '70000826': 1, '70000828': 1, '70000823': 1, '70000829': 1, '70000824': 1, '07603632': 5, '07603639%2CT%2C003': 7, '07705930%2CT%2C001': 6, '07705930': 9, '07603639%2CT%2C001': 6, '07652698': 3, '07599759': 1, '07652696': 1, '07652694': 10, '07652700': 1, '70003329': 2, '07603638%2CT%2C002': 6, '07603638%2CT%2C001%2CT%2C002': 4, '07705930%2CT%2C003': 4, '70000820': 1, '07705930%2CT%2C002': 2, '07652699': 1, '07603638%2CT%2C001%2CT': 1, '07652697': 1, '07603639': 2, '07603638%2CT%2C001%2CT%2C001': 1, '07652695': 1, '70003328': 1, '70003322': 1, '70004788': 5, '70003325': 1, '70004789': 1, '07705937': 1, '07705931': 1, '07580216': 1, '70004786': 1, '07705932': 1, '70003321': 1, '70003324': 1, '70003327': 1, '70004787': 3, '70003326': 1, '70003323': 1, '07705939': 2, '07962367': 2, '07705935': 2, '07705939%2CT%2C001': 1, '07705936': 1, '07705934': 4, '07962368': 8, '07705938': 4, '07963302': 1, '07705939%2CT%2C004': 1, '07962368%2CT%2C001': 4, '07963303': 1, '07705939%2CT%2C003': 1, '07705933': 1, '07963301': 1, '07705939%2CT%2C002': 1, '07962369%2CT%2C001': 2, '70004772': 2, '70004771': 1, '70000814': 4, '70004770': 3, '07962369%2CT%2C002': 2, '70007271': 1, '07963300': 1, '70007270': 1, '70000812': 1, '70007273': 1, '07962349': 1, '07962349%2CT%2C001': 1, '07580203': 1, '07705942': 3, '70003316': 1, '07705941': 1, '70003317': 1, '70007274': 1, '70007275': 1, '70007272': 2, '70000819': 1, '70004777': 22, '70004774': 15, '70003314': 1, '07705944': 7, '70003310': 1, '07810556': 1, '70003312': 1, '70004778': 6, '07810554': 1, '70004776': 2, '70004779': 9, '07810548': 1, '70004775': 2, '07603640': 1, '70003311': 1, '07810547': 1, '07810555': 1, '70003313': 1, '07705940': 1, '07810557': 1, '70004773': 1, '07603641': 2, '70003315': 1, '70007282': 2, '07962350': 5, '70007283': 2, '70007288': 2, '07962356%2CT%2C001': 3, '70007281': 3, '07962351': 1, '07962355%2CT%2C001': 2, '70007280': 3, '70003318': 5, '70007290': 2, '70007277': 1, '07705947': 1, '70007285': 1, '07705948': 1, '70007286': 1, '70007287': 1, '70003319': 1, '07962352': 4, '70007279': 5, '07962354': 1, '07962353': 1, '70007276': 1, '07705949': 1, '07705946': 1, '70007284': 1, '07962356': 1, '07599741': 1, '70007289': 2, '07705945': 1, '07962359': 1, '07856119': 1, '07651611': 6, '70000408': 5, '07651610': 3, '70000407': 3, '07962357': 4, '07651609': 5, '07962357%2CT%2C001': 1, '07962358': 1, '07856118': 1, '07651613': 4, '07651612': 2, '07963319': 1, '70008215': 1, '07962380': 5, '70000409': 1, '07962386%2CT%2C001': 5, '07962384': 10, '07962387': 7, '07871758': 14, '70001872': 4, '07962386': 27, '70001875': 8, '70001877': 7, '07962388': 1, '07962385': 3, '07962382%2CT%2C003': 3, '07962382%2CT%2C001': 1, '07962382%2CT%2C004': 2, '07962382': 1, '07963320': 1, '07962382%2CT%2C002': 3, '07804697': 1, '70000418': 2, '07963321': 3, '07856113': 1, '70000412': 2, '70000415': 1, '07963326': 1, '07963324': 1, '70000414': 6, '07963339': 1, '70000416': 1, '07856115': 1, '07856117': 1, '07856111': 1, '07963328': 1, '07856107': 2, '07962389': 1, '70000417': 2, '07963327': 1, '07963322': 2, '07856110': 1, '07963306': 7, '07963305': 1, '07963307': 1, '07963315': 1, '07963308': 1, '07962372': 13, '07962376': 1, '07962371': 4, '07962370': 6, '07962373': 1, '07962374': 1, '07963314': 1, '70000404': 1, '07963313': 2, '07962379': 1, '70000403': 1, '07962375': 1, '07962377': 1, '70000401': 1, '07963310': 1, '07963311': 1, '70000405': 2, '07963312': 1, '07963316': 4, '07962378': 1, '70000400': 1, '70000402': 1, '07963346': 1, '07963344': 4, '07651632': 1, '70000439': 1, '07603235': 8, '07963348': 4, '07963349': 1, '07963329': 1, '70000438': 2, '07963350': 1, '70000419': 3, '07963347': 3, '70000420': 2, '07962392': 1, '07962394': 2, '07963330': 1, '07962390': 1, '07599707': 1, '07962395': 1, '07599705': 1, '07930576': 1, '07962396': 1, '07962391': 1, '07962398': 1, '07963332': 1, '70000421': 2, '70000422': 1, '07962397': 1, '07962393': 1, '07962399': 1, '07963331': 1, '07651625': 9, '07651626': 8, '70000424': 1, '70000432': 1, '70000429': 11, '70000430': 2, '70000431': 2, '70000434': 1, '70008285': 3, '07963338': 1, '70000423': 1, '70000425': 1, '70000426': 1, '70000433': 1, '07872721': 1, '07963334': 1, '07963333': 1, '70000435': 1, '70000437': 1, '70001832': 3, '07705991': 1, '70003391': 3, '70003388': 6, '70001831': 9, '70003392': 5, '70001828': 11, '07874209': 2, '70003390': 5, '70001830': 6, '70001826': 2, '70001827': 4, '70003389': 1, '70008289': 1, '07705996%2CT%2C002': 1, '70008286': 1, '07504740': 1, '70003387': 1, '07705996': 1, '70003386': 2, '07504740%2CT%2C001': 1, '07963365': 1, '07504743%2CT%2C003': 4, '07504743%2CT%2C001': 5, '07960860': 1, '07874207': 8, '07874205': 3, '07874203': 2, '70008282': 3, '07504743': 1, '70003385': 1, '07961801': 3, '07504743%2CT%2C002': 1, '07960862': 1, '07504739%2CT%2C002': 8, '07963367': 1, '07961805%2CT%2C001': 9, '07961800': 3, '07874211': 1, '07961804': 1, '07961803': 1, '07963368': 1, '07504739%2CT%2C001': 1, '07963366': 1, '70008272': 4, '07811548': 3, '70003394': 5, '70003395': 8, '70003396': 1, '70003379': 1, '07811549': 3, '07963369': 1, '07961802': 1, '07811547': 2, '70003375': 3, '70003373': 8, '70008271': 2, '07504737': 6, '07874215': 2, '70008278': 2, '70003376': 1, '70003377': 1, '07504736%2CT%2C001': 3, '70008279': 2, '07874213': 1, '70003374': 1, '07504738': 1, '70003378': 1, '07963351': 7, '07963356': 7, '07963355': 6, '70003383': 1, '70003382': 1, '70003384': 1, '07963358': 1, '07963359': 1, '07770637': 1, '07963362': 1, '07963363': 1, '70003380': 1, '07963364': 1, '70003381': 1, '07963361': 1, '07963360': 1, '07770635': 1, '07960881': 16, '07963381': 6, '07960880': 3, '07770636': 1, '07503307': 1, '07650209': 1, '07650207': 1, '07963383': 2, '07770639': 1, '07960886': 5, '07871737': 1, '07871736%2CT%2C002%2CT%2C007': 1, '07770646': 1, '07770641': 1, '07770643%2CT%2C009': 1, '07874704': 1, '07770626': 1, '07770642%2CT%2C002': 1, '07770643%2CT%2C005': 1, '07873290': 6, '07770643%2CT%2C012': 1, '07770643%2CT%2C011': 1, '07770643%2CT%2C006': 1, '07770643%2CT%2C007': 1, '07811573': 1, '07770643%2CT%2C008': 1, '07770643%2CT%2C010': 1, '07770640': 1, '07770642%2CT%2C001': 1, '07770644': 1, '07770643%2CT%2C003': 1, '07770643%2CT%2C004': 1, '07770625': 1, '07963389': 2, '07963404': 1, '07770642%2CT%2C003': 1, '07770645': 1, '07770643%2CT%2C001': 1, '07770643%2CT%2C002': 1, '07770642%2CT%2C004': 1, '07770627%2CT%2C007': 1, '70008291': 1, '07700606%2CT%2C001%2CT%2C001': 1, '07770627%2CT%2C010': 2, '07770627%2CT%2C012': 2, '07770627%2CT%2C006': 1, '70008299': 5, '07770627%2CT%2C008': 1, '07700606%2CT%2C001%2CT': 3, '07770627%2CT%2C001': 1, '07700606%2CT%2C004%2CT%2C002': 1, '07700606%2CT%2C005': 1, '07770629': 1, '07700606': 1, '07700606%2CT%2C002%2CT%2C002': 2, '07770627%2CT%2C009': 1, '07700606%2CT%2C001%2CT%2C002': 2, '07700606%2CT%2C002%2CT%2C001': 1, '07770627%2CT%2C002': 1, '07770627%2CT%2C011': 1, '07700606%2CT%2C004%2CT%2C001': 1, '07770627%2CT%2C004': 1, '07700606%2CT%2C004%2CT': 1, '07770627%2CT%2C005': 1, '07770628': 1, '07963370': 1, '07963371': 1, '07963387': 2, '70008292': 1, '07963378': 1, '70008290': 1, '70008295': 2, '07963379': 1, '07963386': 1, '07770630': 1, '07963377': 1, '07871741%2CT%2C004%2CT%2C006': 1, '07871741%2CT%2C004%2CT%2C004': 1, '07963373': 7, '07871741%2CT%2C003%2CT%2C005': 1, '07871741%2CT%2C004%2CT%2C009': 1, '07871741%2CT%2C004%2CT%2C012': 1, '07871741%2CT%2C003%2CT%2C011': 1, '07871741%2CT%2C001%2CT%2C013': 1, '07871741%2CT%2C003%2CT%2C007': 1, '07871741%2CT%2C001%2CT%2C005': 1, '07871741%2CT%2C001%2CT%2C011': 1, '07871741%2CT%2C001%2CT%2C007': 2, '07871741%2CT%2C003%2CT%2C003': 1, '07871741%2CT%2C003%2CT%2C008': 1, '07871741%2CT%2C004%2CT%2C013': 2, '07871741%2CT%2C004%2CT%2C001': 4, '07871741%2CT%2C004%2CT%2C016': 2, '07871741%2CT%2C004%2CT%2C003': 3, '07871741%2CT%2C003%2CT%2C010': 1, '07856123': 1, '07963374': 1, '07871741%2CT%2C004%2CT%2C010': 1, '07871741%2CT%2C004%2CT%2C015': 1, '07871741%2CT%2C003%2CT%2C006': 1, '07963376': 1, '07770633': 1, '07856127': 1, '07770632': 1, '07770634': 1, '07770631': 1, '70005128': 1, '07964472': 1, '07964470': 1, '07961971': 7, '07961971%2CT%2C001': 4, '07964471': 1, '07964473': 1, '07964474': 1, '07961970': 1, '07857131%2CT%2C008': 2, '07962921': 1, '07962079%2CT%2C005': 1, '07857131%2CT%2C006': 2, '07857141': 8, '07962079%2CT%2C006': 1, '07857131%2CT%2C001': 1, '70005131': 1, '07962079': 1, '07857131%2CT%2C003': 4, '07857131%2CT%2C002': 2, '07962079%2CT%2C001': 2, '07961976%2CT%2C001': 5, '07961977': 2, '07962916': 2, '07857140': 1, '07580851': 2, '07962079%2CT%2C002': 1, '70005132': 1, '07962079%2CT%2C003': 1, '07962079%2CT%2C004': 1, '07962922': 1, '07857131%2CT%2C005': 1, '07962923': 1, '70005133': 1, '07857130': 1, '07961976%2CT%2C002': 1, '07580850': 1, '07961977%2CT%2C001': 2, '07857131%2CT%2C007': 1, '07857137': 10, '07857134': 2, '07857136%2CT%2C002': 6, '70005135': 1, '07873718': 3, '07964475': 2, '07857135': 1, '70005136': 1, '07857132': 3, '07857136%2CT%2C004': 3, '07962078': 1, '07857136%2CT%2C001': 1, '07873720': 1, '07857133': 1, '07962911': 1, '70005137': 1, '07962912': 3, '07580854': 1, '07962913': 1, '07961979%2CT%2C001': 1, '70005138': 1, '07961979%2CT%2C002': 1, '07857139': 1, '07857136%2CT%2C003': 2, '07961979': 1, '70005139': 1, '70005134': 1, '07873710': 4, '07873712': 4, '07857138': 2, '07873716': 1, '70005130': 1, '07873714': 4, '07873721': 2, '07964466': 6, '07964468': 1, '07961964': 6, '07960506%2CT%2C001': 1, '07960506%2CT%2C002': 1, '07961969': 1, '07503090': 1, '07961966': 1, '07961965': 1, '70005125': 1, '07963028': 1, '07963035': 1, '07857123': 1, '07963029': 1, '07963037': 1, '07580847': 1, '07963033': 1, '07963034': 1, '07963039': 1, '07963014': 1, '07961968%2CT%2C001': 1, '07961968%2CT%2C002': 1, '07963040': 1, '07963041': 1, '07857122': 1, '07963036': 1, '07963005': 3, '07963026': 1, '07963031': 1, '07857121': 1, '07963013': 1, '07963038': 1, '07963032': 1, '07961967': 2, '07501527': 2, '07961968': 1, '07962905': 1, '07963012': 1, '70005122': 1, '07857120%2CT%2C003': 1, '07964469': 1, '07857120%2CT%2C002': 1, '07857120%2CT%2C001': 1, '70005121': 1, '07873725': 2, '07857126%2CT%2C001': 3, '07857127': 6, '70005127': 1, '07857126%2CT%2C002': 1, '70006580': 1, '07857128%2CT%2C001': 3, '07857129': 10, '07857125': 1, '07873723': 1, '07857128%2CT%2C002': 3, '07857126': 1, '07857128': 1, '07580848': 1, '07873729': 1, '07580849': 1, '07857124': 1, '07505488': 3, '07602964%2CT%2C002%2CT%2C002': 2, '07602965%2CT%2C001%2CT%2C003': 6, '70006582': 1, '07602965%2CT%2C001%2CT': 11, '07962092': 4, '07602965%2CT%2C001%2CT%2C002': 7, '07602964%2CT%2C002%2CT': 3, '07602965%2CT%2C001%2CT%2C001': 4, '07873733': 4, '07602964%2CT%2C001': 8, '07962092%2CT%2C001': 1, '07873727': 1, '07602965%2CT%2C001%2CT%2C004': 5, '07962093': 3, '07602965': 1, '07602964%2CT%2C002%2CT%2C001': 2, '70000256': 1, '70000255': 1, '70000252': 5, '07962097': 1, '70000253': 3, '07962096%2CT%2C001': 1, '07962096': 1, '07873731': 2, '70000254': 1, '07962094': 1, '07962095': 1, '07962099': 2, '07962098': 1, '07857111': 2, '70000257': 1, '07580879': 3, '70005155': 1, '70005156': 1, '70005158': 3, '07857110': 5, '70005159': 1, '07962931': 3, '07857113%2CT%2C001': 2, '07962937': 6, '70005157': 1, '70000259': 3, '07962938': 1, '07857113%2CT%2C002': 1, '07962936': 1, '70000258': 1, '07857116': 1, '70005154': 1, '07873736': 1, '07857118': 2, '70005153': 1, '07857117': 1, '07873741': 1, '07873739': 2, '70005151': 1, '07873737': 1, '07857114%2CT%2C001': 1, '70005152': 1, '07857119': 1, '07962081': 1, '07962939': 1, '07857115': 1, '70005150': 1, '70005144': 1, '70005143': 1, '07962086': 3, '07962085%2CT%2C001': 3, '07962085': 1, '07962083%2CT%2C002': 1, '07962084': 4, '07962080': 1, '07873745': 2, '07962083': 1, '07962083%2CT%2C001': 1, '07873743': 1, '07962085%2CT%2C002': 3, '07962082': 1, '70005145': 1, '07857103': 1, '07962929': 1, '07962930': 1, '70005146': 1, '07857100': 2, '07857101': 1, '07873749': 3, '70005141': 1, '07873747': 3, '07857108%2CT%2C001': 3, '07857105': 1, '07857102': 1, '07857109': 4, '07857106': 1, '70005142': 1, '07857104': 2, '07857108': 1, '70005140': 1, '07857107': 1, '07857107%2CT%2C001': 1, '07857180': 4, '07962954': 2, '07962952': 2, '07857181': 1, '07962950': 1, '07857183': 1, '07962953': 3, '07857182': 1, '07962958': 2, '07962956': 2, '07857184': 3, '07857186%2CT%2C007': 2, '07857186%2CT%2C008': 1, '07857179': 2, '07857186%2CT%2C001': 1, '07857186%2CT%2C002': 1, '07857186': 1, '07857186%2CT%2C003': 1, '07857187': 1, '07857186%2CT%2C005': 1, '07857186%2CT%2C004': 2, '07962951': 1, '07857186%2CT%2C006': 1, '07502519%2CT%2C006': 1, '07502519%2CT%2C004': 1, '07857178': 4, '07502519%2CT%2C002': 1, '07502519': 1, '07502519%2CT%2C005': 1, '07857170': 2, '07857170%2CT%2C001': 2, '07580819': 2, '07962942': 2, '07962941': 2, '07962980': 2, '07857174': 2, '07962943': 1, '07962945': 2, '07857172%2CT%2C002': 2, '07857172%2CT%2C006': 2, '07857172': 5, '07857176': 5, '07857171': 4, '07962948': 1, '07857172%2CT%2C007': 2, '07857172%2CT%2C003': 2, '07962949': 1, '07857166': 1, '07857173': 2, '07962981': 1, '07500111': 2, '07857169': 1, '07857172%2CT%2C004': 2, '07857175': 2, '07857172%2CT%2C001': 2, '07857172%2CT%2C005': 1, '07857177': 1, '07962940': 1, '07857167': 1, '07857168': 2, '07857168%2CT%2C002%2CT%2C002': 1, '07962947': 3, '07857168%2CT%2C002%2CT%2C001': 1, '07857168%2CT%2C001': 1, '07857168%2CT%2C003%2CT%2C001': 1, '07857168%2CT%2C002%2CT%2C003': 2, '07960574%2CT%2C001%2CT%2C004': 5, '07857160%2CT%2C004': 2, '07604480': 5, '07857160%2CT%2C001': 12, '70005105': 1, '07604481': 4, '07960574%2CT%2C001%2CT%2C002': 4, '07857160%2CT%2C003': 4, '07960574%2CT%2C001%2CT': 7, '07960575%2CT%2C001': 2, '70005104': 1, '07857160%2CT%2C002': 6, '07960574%2CT%2C001%2CT%2C001': 1, '07961510': 1, '07960574%2CT%2C001%2CT%2C005%2CT': 6, '07960574%2CT%2C001%2CT%2C005%2CT%2C001': 1, '07960575': 2, '07961514': 1, '07960574': 3, '07960574%2CT%2C001%2CT%2C005%2CT%2C002': 2, '07960578': 1, '07960577': 1, '07960576': 1, '07961513': 1, '07857160': 2, '07960574%2CT%2C002%2CT': 5, '07960574%2CT%2C002%2CT%2C002': 1, '07960574%2CT%2C001%2CT%2C006': 3, '07960574%2CT%2C001%2CT%2C003': 1, '07960574%2CT%2C002%2CT%2C001': 1, '70005107': 1, '07961517': 2, '07961515': 2, '07857163%2CT%2C001': 5, '70005109': 1, '07857165': 1, '07961518': 3, '07961516': 1, '07505038': 8, '07961511': 1, '07857164': 1, '07963076': 1, '07960579': 2, '07857155': 2, '07857162': 1, '70005108': 1, '07963075': 1, '07961512': 1, '07857161': 1, '07857157%2CT%2C003': 6, '07857157%2CT%2C001': 11, '07857158': 2, '07961519%2CT%2C005': 1, '07604479': 4, '07961519%2CT%2C002': 1, '07857157%2CT%2C002': 2, '07857157': 2, '07857154': 2, '07505037': 6, '07961519%2CT%2C003': 2, '07604478': 5, '07857156%2CT%2C001': 5, '70005112': 1, '07580833': 1, '07580831': 1, '70005111': 1, '07857156%2CT%2C003': 1, '07961519%2CT%2C001': 1, '07505037%2CT%2C001%2CT%2C001': 1, '07580830': 3, '70006578': 1, '70005110': 1, '07961519': 1, '07605413': 1, '07810197': 2, '07603014': 1, '07857156%2CT%2C005': 1, '07580835': 1, '70006575': 1, '70005113': 1, '70006574': 1, '07961519%2CT%2C004': 1, '07857159': 2, '07505037%2CT%2C002%2CT%2C001': 1, '07604470': 7, '07604474': 6, '07604471': 5, '07604476': 7, '07604473': 7, '07604477': 7, '07604475': 7, '07960581': 1, '07605412': 1, '70005114': 1, '07960582': 1, '07604490%2CT%2C007': 2, '07604490%2CT%2C002': 2, '07604490%2CT%2C003': 3, '07604472': 7, '07604490%2CT%2C006': 2, '07960580': 2, '07604490%2CT%2C005': 2, '07604490%2CT%2C004': 2, '07604490%2CT%2C001': 2, '07604490%2CT%2C008': 2, '07961506': 1, '07961502': 4, '07962963': 2, '07857150': 1, '07961501': 2, '07962970': 1, '07961501%2CT%2C001': 2, '07962962': 1, '07857151%2CT%2C002': 1, '07961500': 4, '07962964': 1, '07961505': 1, '07961502%2CT%2C001': 3, '07857151%2CT%2C001': 1, '07961507': 4, '07873709': 6, '07857147': 1, '07961508': 4, '07857153%2CT%2C001': 3, '07857153': 1, '07961503': 1, '07857152%2CT%2C003': 1, '07857143%2CT%2C001': 1, '07961509': 2, '07857152%2CT%2C002': 1, '07857143': 3, '07961504': 1, '07857152%2CT%2C001': 1, '07873707': 1, '07580821': 1, '07857144': 1, '07857143%2CT%2C002': 1, '07857143%2CT%2C003': 1, '70005100': 2, '07857142': 1, '07857145': 1, '70005101': 5, '07873701': 9, '07604488': 2, '07580826': 2, '07857148%2CT%2C001': 2, '07857148': 3, '07604487': 2, '07580822': 1, '07931196': 1, '07580823': 3, '07604486': 3, '07857149': 1, '07604489': 2, '07502528': 1, '07931197': 1, '07857146': 1, '07873800': 5, '07873798': 3, '07580829': 1, '07604483': 4, '07604485': 2, '07604482': 3, '07873702': 6, '07960597': 7, '07960598%2CT%2C001': 1, '07604484': 2, '07960596': 1, '07960598': 5, '07604483%2CT%2C001': 1, '07873703': 1, '07873799': 3, '07961534': 1, '07960595': 1, '07873802': 3, '07873705': 1, '07961535': 3, '07963093': 8, '07961538': 1, '07960599': 6, '07961533': 3, '07961537%2CT%2C002': 2, '07931193': 1, '07963092': 8, '07963091': 8, '07961537%2CT%2C001': 1, '07873793': 4, '07961536': 1, '07931191': 1, '07873796': 3, '07858166': 1, '07858207': 1, '07873791': 1, '07650049': 4, '07873794': 1, '07704934': 1, '07650048': 2, '07961539': 1, '07877345': 3, '07505411': 4, '70008344': 2, '07877234': 10, '70008347': 2, '70008355': 1, '70008357': 2, '70008351': 1, '70008356': 1, '70008354': 2, '70008353': 1, '70008350': 2, '07931188': 1, '07877348': 1, '70008349': 1, '07931184': 1, '70008346': 1, '70008348': 1, '70008352': 1, '70008345': 2, '07931183': 1, '07960586': 9, '07960585%2CT%2C002%2CT%2C002': 1, '70006158': 4, '07605054': 1, '07960585%2CT%2C002%2CT%2C003': 1, '07960589%2CT%2C001': 3, '07962985': 4, '07931187': 1, '07960585%2CT%2C001': 4, '07960586%2CT%2C002': 7, '07962986': 2, '07960586%2CT%2C003': 1, '07960588': 2, '07960586%2CT%2C001': 5, '07960589%2CT%2C002': 1, '07960585%2CT%2C002%2CT%2C001': 1, '07960584%2CT%2C001': 1, '07960587': 1, '07931180': 1, '07960585%2CT%2C002%2CT': 1, '07962984': 1, '07960583': 1, '07962983': 1, '07960589': 1, '07962982': 1, '07960584': 1, '70006147': 1, '07962988': 1, '07505409': 4, '07962987': 2, '07960591': 6, '07650051': 2, '07960593': 9, '07931177': 1, '07650050': 8, '07960590': 3, '70006143': 1, '07960594': 9, '07599459': 1, '07931176': 1, '07931173': 1, '70006146': 1, '07599452': 2, '70006145': 1, '07960592%2CT%2C001': 1, '70006144': 1, '07650052': 1, '07931171': 1, '07652476': 10, '07770197%2CT%2C002': 2, '07961555%2CT%2C010': 2, '07961557': 1, '07961555%2CT%2C007': 2, '07961556': 6, '07961555%2CT%2C006': 2, '07770197%2CT%2C001': 12, '07961555%2CT%2C004': 2, '07770197': 6, '07961555%2CT%2C012': 2, '07961551': 4, '07961555%2CT%2C002': 2, '07961555%2CT%2C005': 2, '07961558': 2, '07961555%2CT%2C003': 2, '07605023': 1, '07961555%2CT%2C008': 2, '70006173': 3, '07961555%2CT%2C001': 2, '07961555%2CT%2C013': 2, '07961555%2CT%2C011': 4, '07961555%2CT%2C009': 2, '07770198': 5, '07874750': 3, '07652479': 13, '07961559': 1, '07652478': 1, '07652477': 1, '07961561': 9, '07961562%2CT%2C001': 2, '07961540': 2, '70006177': 1, '07931165': 1, '70006179': 1, '07605015': 2, '07961560': 1, '07652480': 4, '07961561%2CT%2C001': 1, '07931163': 1, '07650083': 1, '07961542': 1, '07961562%2CT%2C002': 1, '07961541': 1, '70006161': 2, '70006162': 4, '07961545': 1, '07650081': 1, '07961546': 1, '07650080': 1, '07961544': 1, '07961543': 1, '07961548': 1, '07961549': 1, '07961547': 1, '07705909': 5, '07705908': 9, '70006165': 4, '70006167': 1, '07650078': 3, '70006168': 7, '07705900': 1, '70006166': 3, '07931158': 1, '07931153': 1, '07931159': 1, '07650079': 6, '07856645%2CT%2C001': 7, '07856646': 6, '07962513': 1, '07856645%2CT%2C003': 2, '07962512': 1, '07962511': 8, '07856644': 3, '07962518': 1, '07856642': 6, '07873752': 2, '07856647': 4, '07873756': 3, '07652493': 2, '07856645%2CT%2C002': 1, '07962514': 3, '07873754': 1, '07962510': 1, '07873750': 2, '07962519': 11, '07962515': 3, '07856648': 3, '07931145': 2, '07963309': 4, '07962516%2CT%2C001': 1, '07962516%2CT%2C002': 2, '07962515%2CT%2C005': 1, '07962517': 1, '07931144': 1, '07962515%2CT%2C004': 1, '07962515%2CT%2C003': 1, '07856649': 1, '07962515%2CT%2C001': 1, '07962515%2CT%2C002': 1, '07873758': 1, '07873760': 2, '07873765': 1, '70005172': 1, '70005177': 1, '70005175': 1, '07961585': 1, '70005173': 2, '70005176': 1, '70005171': 1, '70005174': 1, '07931143': 1, '07962500': 1, '07652488': 7, '07962501': 4, '07652486': 6, '07962501%2CT%2C001': 17, '07652491': 6, '07652490': 2, '07873763': 2, '07962502%2CT%2C002': 1, '07961565': 3, '07652482': 2, '07961564': 1, '07962502': 1, '07652483': 1, '07960105': 1, '07652484': 1, '07962502%2CT%2C001': 1, '07605012': 1, '07962502%2CT%2C003': 1, '07961584': 1, '07961563': 2, '07873768': 2, '07652481': 5, '07856635%2CT%2C001': 2, '07856636%2CT%2C003%2CT%2C004': 3, '07856635%2CT%2C002': 3, '07962506': 2, '07856635%2CT%2C003': 2, '07856635': 1, '70000265': 1, '07962504': 1, '07873766': 3, '07962505': 1, '07856636%2CT%2C003%2CT%2C005': 1, '07856636%2CT%2C003%2CT%2C001': 1, '07962503': 1, '07962503%2CT%2C002': 1, '07962503%2CT%2C001': 1, '07856639%2CT%2C001': 1, '70005169': 1, '70005167': 1, '07856639%2CT%2C002': 1, '07931132': 2, '07873761': 2, '07962507': 1, '07962508': 1, '70005168': 1, '07962509': 1, '70005164': 1, '70005160': 1, '07961573%2CT%2C002': 1, '07931135': 1, '07961574%2CT%2C002': 1, '70005161': 1, '70005166': 3, '07962531': 1, '07962532': 1, '07873774': 1, '07652492': 1, '70005165': 1, '07962533': 1, '07962534': 1, '07873775': 1, '07962535': 12, '07931127': 1, '07931129': 1, '07962538': 2, '07962536': 2, '07873772': 1, '07962537': 4, '07962539': 3, '07962535%2CT%2C001': 1, '70008402': 1, '07931121': 3, '07503077%2CT%2C009%2CT%2C001': 12, '07503077%2CT%2C007': 6, '70006136': 2, '70006125': 7, '07503077%2CT%2C009%2CT%2C003': 6, '70008392': 4, '70006127': 6, '07503077': 4, '70006135': 1, '07873771': 1, '70008280': 2, '70006130': 2, '70006120': 6, '70008407': 1, '70008273': 1, '70008403': 1, '07503077%2CT%2C006%2CT': 2, '07599442': 2, '07931122': 1, '07599444': 5, '07962542': 1, '07599445': 3, '70006131': 5, '07962541': 5, '07962540%2CT%2C003': 1, '07599449': 1, '07962540%2CT%2C001': 1, '70006134': 1, '70006133': 1, '07962540%2CT%2C002': 1, '07599447': 1, '07962520': 4, '07874721': 4, '07962525': 1, '07962524': 1, '07962522': 1, '07962523': 1, '07962526': 1, '07874749': 1, '07962521': 1, '07962528': 1, '07962527': 1, '07962529': 3, '07962530': 20, '07501507': 8, '07501507%2CT%2C002': 1, '07501507%2CT%2C001': 1, '70000715': 8, '07962422': 14, '07962425': 2, '70003212': 1, '07856688': 2, '07962424': 1, '70000716': 1, '07962423': 1, '07856689': 2, '70000717': 3, '07856687%2CT%2C002': 1, '07856687%2CT%2C001': 1, '70000714': 1, '70000711': 4, '07962429': 6, '70000713': 6, '07962427%2CT%2C001': 4, '70003219': 1, '07962428': 3, '70000719': 2, '70004726': 12, '70003215': 1, '70004678': 9, '70004751': 5, '70000718': 1, '70003218': 1, '07856680%2CT%2C002': 4, '07960033%2CT%2C004': 1, '07960032': 3, '07856680%2CT%2C001': 2, '07602102': 7, '07856680': 2, '70000721': 1, '07961497': 4, '07963337': 2, '07961496%2CT%2C002': 2, '07961492': 2, '07960033%2CT%2C001': 1, '07931231': 1, '07961493': 2, '07960033%2CT%2C002': 1, '07961496%2CT%2C001': 2, '07960033%2CT%2C003': 1, '07963336': 1, '07961495': 2, '07856681': 8, '07856684': 2, '07961494': 6, '07961498%2CT%2C001': 10, '07856683': 5, '07856682': 3, '07961498%2CT%2C003': 4, '07962431': 4, '07961498': 2, '07856686': 4, '07962430': 6, '07961499%2CT%2C001': 4, '07856685': 1, '07856685%2CT%2C001': 1, '70000720': 1, '07962413': 1, '07962432': 3, '07856675': 1, '07962433': 1, '07874309': 1, '07962411': 6, '07962412': 1, '07856677': 2, '07962411%2CT%2C001%2CT': 2, '07856679': 2, '07962411%2CT%2C001%2CT%2C001': 1, '07961478%2CT%2C001': 1, '70000705': 4, '07580353': 1, '07962410': 1, '07856678': 1, '07962417': 1, '07962415': 5, '07705832': 4, '70000700': 1, '07705834': 4, '07650109': 3, '07705833': 1, '07962414': 1, '07962416': 2, '07705831': 5, '70000706': 1, '70000707': 2, '70000710': 4, '07705835': 2, '07874305': 1, '07962418': 1, '70000708': 2, '07931224': 1, '07705830': 1, '70003200': 1, '70000709': 1, '07961480%2CT%2C001': 7, '07961481%2CT%2C001': 6, '07705839': 1, '07961480': 4, '07705836': 1, '07961481': 4, '07962421': 8, '07856671': 6, '07961485': 2, '07856670': 4, '07856672%2CT%2C002': 1, '07961484': 3, '07961482%2CT%2C001': 4, '07856671%2CT%2C002': 6, '07856671%2CT%2C001': 8, '07961483': 2, '07961482%2CT%2C002': 4, '07856672%2CT%2C001': 2, '07961483%2CT%2C002': 2, '07961483%2CT%2C001': 2, '07961489': 2, '07856671%2CT%2C003': 2, '07856672': 1, '07500943': 1, '07961482': 2, '07856665%2CT%2C005': 8, '07856674': 5, '07856665%2CT%2C001': 7, '07961488': 2, '07962449': 3, '07856664': 4, '07856665%2CT%2C004': 2, '07856665%2CT%2C002': 2, '07961487': 4, '07856667%2CT%2C001': 2, '07856663': 2, '07961486': 4, '07962448': 1, '70003230': 1, '07962447': 1, '07856668': 1, '07930281': 1, '07856673': 1, '07501917': 1, '07856665%2CT%2C003': 3, '07962446': 1, '07961486%2CT%2C001': 2, '07856665': 2, '07856666': 1, '07856667%2CT%2C002%2CT%2C001': 1, '07931219': 1, '70003232': 1, '07856669%2CT%2C004': 6, '70000743': 1, '07930279%2CT%2C002': 1, '07856669%2CT%2C002': 3, '70000753': 1, '07705841': 1, '07705850': 1, '07931218': 1, '70000755': 1, '07931213': 1, '70000741': 1, '70000748': 1, '70000751': 1, '70003239': 1, '07705845': 1, '70000736': 1, '70000747': 1, '70000746': 1, '07501916': 1, '07931217': 1, '07705846': 1, '70000752': 1, '07705842': 1, '70000745': 1, '70000756': 1, '07705844': 1, '70000750': 1, '70000742': 1, '07931214': 1, '07856669%2CT%2C001': 1, '70000749': 1, '70000738': 1, '07705847': 1, '70000740': 1, '07931212': 1, '07856669%2CT%2C003': 1, '70000739': 1, '70000754': 1, '07930273%2CT%2C004': 1, '07705849': 12, '07705848': 2, '07705843': 1, '07930273%2CT%2C001': 1, '07962453': 1, '07930273%2CT%2C002': 1, '07962452': 2, '07501910': 1, '07650111': 1, '07856652%2CT%2C002%2CT': 19, '07960055%2CT%2C001': 2, '70003222': 1, '07856652%2CT%2C001': 8, '07962450': 5, '07856651%2CT%2C001%2CT': 4, '07856652%2CT%2C006%2CT%2C002': 3, '07962455': 6, '07856661%2CT%2C001': 4, '07856652%2CT%2C005': 10, '07962457': 1, '07856660%2CT%2C002': 2, '07856652%2CT%2C004%2CT%2C005': 3, '07962437': 2, '07856651%2CT%2C002%2CT%2C001': 3, '07856661': 2, '07856652%2CT%2C004%2CT%2C001': 6, '70000727': 1, '07856652%2CT%2C002%2CT%2C001': 1, '07856652%2CT%2C003': 3, '07856662': 8, '07856651%2CT%2C002%2CT': 2, '07960055': 3, '07856652%2CT%2C004%2CT%2C002': 3, '07856651%2CT%2C001%2CT%2C008': 1, '07856651%2CT%2C001%2CT%2C005': 1, '07856661%2CT%2C002': 7, '07856651%2CT%2C001%2CT%2C011': 2, '07856652%2CT%2C006%2CT%2C001': 1, '07856652%2CT%2C004%2CT%2C004': 1, '07856652%2CT%2C004%2CT%2C003': 3, '07856652%2CT%2C006%2CT': 2, '07962436': 2, '07856651%2CT%2C001%2CT%2C003': 1, '70003224': 1, '07856651%2CT%2C001%2CT%2C002': 1, '07856651%2CT%2C001%2CT%2C004': 1, '07962451': 1, '70003223': 1, '07856651%2CT%2C001%2CT%2C007': 1, '07856651%2CT%2C001%2CT%2C009': 1, '07856661%2CT%2C004%2CT%2C001': 1, '07962454': 1, '07856651%2CT%2C001%2CT%2C013': 1, '07856651%2CT%2C001%2CT%2C006': 1, '07856651%2CT%2C001%2CT%2C001': 1, '07501911': 1, '07856651%2CT%2C001%2CT%2C012': 1, '70000726': 1, '07931209': 1, '07856651%2CT%2C001%2CT%2C010': 1, '07856660%2CT%2C001': 1, '07962456': 1, '07856661%2CT%2C003': 1, '07705856': 1, '07962434': 10, '07962438': 4, '07520116': 1, '07962439': 7, '07856658': 1, '07856655': 2, '07856657': 1, '07856656%2CT%2C005': 1, '70000729': 1, '70000725': 8, '07856659': 6, '70000724': 3, '07856656%2CT%2C004': 1, '07856656%2CT%2C006': 2, '07856653': 4, '70000728': 1, '70000723': 14, '07856654': 1, '70003220': 1, '07856656%2CT%2C002': 1, '07856656%2CT%2C001': 1, '07931207': 1, '07705851': 1, '07856656%2CT%2C003': 1, '07962435': 2, '07874323': 8, '07874324': 7, '07705852': 1, '07650127': 1, '07874329': 3, '07705854': 1, '07705855': 1, '07874330': 1, '07874327': 1, '07874334': 1, '07705853': 1, '07650128': 1, '07931204': 1, '70003229': 1, '07650126': 1, '07874326': 1, '07931202': 1, '07874332': 1, '07650123': 1, '70000734': 10, '07962440': 4, '07962441': 1, '07962443': 2, '70000731': 3, '07962445': 1, '70008124': 4, '70000732': 15, '07962444': 2, '70008126': 1, '70008125': 1, '70000805': 1, '70000804': 1, '70002133': 1, '70000733': 1, '70002134': 2, '70000730': 1, '07962442': 5, '07856650': 1, '70006191': 1, '07930257': 1, '07963407': 1, '07963406': 1, '07963410': 1, '07963405': 3, '07963409': 1, '07963411': 1, '07580322': 2, '07605088': 1, '07963408': 1, '07599868': 1, '07962473': 1, '70006208': 1, '07962470': 16, '70006211': 1, '70006207': 1, '70006225': 1, '07962472': 1, '70006213': 1, '70006203': 1, '70006214': 1, '70006212': 1, '07962471': 1, '70006215': 1, '07962472%2CT%2C001': 1, '70006202': 1, '07962477': 1, '70006206': 1, '70006217': 1, '70006223': 1, '07962475': 1, '70006218': 1, '70006222': 1, '70006200': 1, '70006221': 1, '70006216': 1, '70006201': 1, '70006219': 1, '70006205': 1, '70006204': 1, '70006224': 1, '70006209': 1, '70006220': 1, '07962476': 1, '07770952%2CT%2C001': 18, '07770952': 4, '07962478': 1, '07962474': 1, '07962479': 2, '07599854': 1, '07599860': 1, '70006181': 1, '70006184': 6, '07962458': 2, '07770955': 2, '07770953': 1, '07770951': 7, '70006180': 1, '07770954': 1, '07599858': 1, '07962459': 2, '07599856': 1, '07520186%2CT%2C002%2CT%2C003': 1, '07520186%2CT%2C003%2CT%2C006': 1, '07962460': 6, '07520186%2CT%2C003%2CT': 3, '70006187': 4, '07962465': 6, '07520186%2CT%2C001%2CT%2C001': 2, '07520186%2CT%2C001%2CT': 6, '07962461': 1, '07520186': 7, '07520186%2CT%2C004%2CT': 1, '07520182': 1, '07520186%2CT%2C004%2CT%2C002': 1, '07650146': 1, '07520186%2CT%2C002%2CT%2C002': 1, '07520186%2CT%2C004%2CT%2C006': 2, '07520186%2CT%2C003%2CT%2C007': 1, '07600190': 1, '07520186%2CT%2C003%2CT%2C001': 1, '07520186%2CT%2C004%2CT%2C007': 1, '07520186%2CT%2C004%2CT%2C005': 1, '07650145': 1, '07605091': 1, '07520186%2CT%2C003%2CT%2C003': 1, '07520186%2CT%2C004%2CT%2C009': 2, '07520186%2CT%2C003%2CT%2C002': 1}\n"
     ]
    }
   ],
   "source": [
    "print(len(photographer_dict))\n",
    "print(list(photographer_dict.keys())[0:5])\n",
    "print(len(photographer_dict[list(photographer_dict.keys())[0]]))\n",
    "print(photographer_dict[list(photographer_dict.keys())[0]])"
   ]
  },
  {
   "cell_type": "code",
   "execution_count": 12,
   "metadata": {},
   "outputs": [
    {
     "name": "stdout",
     "output_type": "stream",
     "text": [
      "TOP 10 artworks photographed by Sigismondi,Roberto\n",
      "\n",
      "45 times:\t07705627\n",
      "39 times:\t07705270\n",
      "38 times:\t07705617\n",
      "36 times:\t07874132\n",
      "32 times:\t07963237\n",
      "29 times:\t70004783\n",
      "27 times:\t07962386\n",
      "26 times:\t07857019\n",
      "25 times:\t70004833\n",
      "24 times:\t07874062\n",
      "\n",
      "Total number of artworks photographed: 4049\n",
      "\n",
      "\n",
      "TOP 10 artworks photographed by Artini,Luigi\n",
      "\n",
      "60 times:\t07930037%2CT%2C001%2CT\n",
      "57 times:\t07580149\n",
      "56 times:\t07501836%2CT%2C001%2CT\n",
      "55 times:\t07873109\n",
      "50 times:\t07501836%2CT%2C001%2CT%2C002%2CT%2C001\n",
      "49 times:\t07873106\n",
      "48 times:\t70001475\n",
      "44 times:\t07930039%2CT%2C001\n",
      "44 times:\t07502889\n",
      "43 times:\t07930039%2CT%2C002\n",
      "\n",
      "Total number of artworks photographed: 2834\n",
      "\n",
      "\n",
      "TOP 10 artworks photographed by Brogi\n",
      "\n",
      "10 times:\t07580181\n",
      "8 times:\t07599766\n",
      "8 times:\t07605036\n",
      "8 times:\t07580319\n",
      "6 times:\t07600337\n",
      "6 times:\t07580166\n",
      "6 times:\t07580216\n",
      "5 times:\t07600318\n",
      "5 times:\t07858369\n",
      "5 times:\t07580277\n",
      "\n",
      "Total number of artworks photographed: 146\n",
      "\n",
      "\n",
      "TOP 10 artworks photographed by Fiorucci,Carlo\n",
      "\n",
      "16 times:\t07651637\n",
      "15 times:\t07502227%2CT%2C002%2CT\n",
      "12 times:\t07650352\n",
      "9 times:\t07650620\n",
      "9 times:\t07651682\n",
      "8 times:\t07652255\n",
      "8 times:\t07857452%2CT%2C004\n",
      "8 times:\t07505419%2CT%2C001\n",
      "8 times:\t07650938\n",
      "7 times:\t07501448\n",
      "\n",
      "Total number of artworks photographed: 1234\n",
      "\n",
      "\n",
      "TOP 10 artworks photographed by Visconti,FrancescoArese\n",
      "\n",
      "23 times:\t07856616\n",
      "22 times:\t07503313\n",
      "16 times:\t07876447\n",
      "15 times:\t07812780\n",
      "13 times:\t07500771\n",
      "13 times:\t07876519\n",
      "13 times:\t07876507\n",
      "12 times:\t07652723\n",
      "12 times:\t07876511\n",
      "12 times:\t07503091\n",
      "\n",
      "Total number of artworks photographed: 143\n",
      "\n",
      "\n"
     ]
    }
   ],
   "source": [
    "for element in list(photographer_dict.keys())[:5]:\n",
    "    photographer_artwork_values = sorted(photographer_dict[element].items(), key=operator.itemgetter(1), reverse=True)\n",
    "    photographer_artwork_values = dict(photographer_artwork_values)\n",
    "\n",
    "    print(\"TOP 10 artworks photographed by {}\\n\".format(element))\n",
    "    for top_position in list(photographer_artwork_values.keys())[:10]:\n",
    "        print(\"{} times:\\t{}\".format(photographer_artwork_values[top_position], top_position))\n",
    "    \n",
    "    print(\"\\nTotal number of artworks photographed: {}\\n\\n\".format(len(photographer_dict[element])))"
   ]
  },
  {
   "cell_type": "code",
   "execution_count": 34,
   "metadata": {},
   "outputs": [
    {
     "name": "stdout",
     "output_type": "stream",
     "text": [
      "68\n"
     ]
    }
   ],
   "source": [
    "print(len(photographer_dict))"
   ]
  },
  {
   "cell_type": "code",
   "execution_count": 13,
   "metadata": {},
   "outputs": [],
   "source": [
    "work_photographer_relation_dict = {}\n",
    "\n",
    "for photographer in photographer_dict:\n",
    "    for work in photographer_dict[photographer]:\n",
    "        if work not in work_photographer_relation_dict:\n",
    "            work_photographer_relation_dict[work] = {photographer: photographer_dict[photographer][work]}\n",
    "        else:\n",
    "            work_photographer_relation_dict[work][photographer] = photographer_dict[photographer][work]"
   ]
  },
  {
   "cell_type": "markdown",
   "metadata": {},
   "source": [
    "Question: How many artworks are photographed by multiple photographers?"
   ]
  },
  {
   "cell_type": "code",
   "execution_count": 14,
   "metadata": {},
   "outputs": [
    {
     "name": "stdout",
     "output_type": "stream",
     "text": [
      "Answer: 688 artworks were photographed by multiple photographers\n"
     ]
    }
   ],
   "source": [
    "counter = 0\n",
    "for work in work_photographer_relation_dict:\n",
    "    if len(work_photographer_relation_dict[work]) > 1:\n",
    "        counter += 1\n",
    "\n",
    "print(\"Answer: {} artworks were photographed by multiple photographers\".format(counter))"
   ]
  },
  {
   "cell_type": "markdown",
   "metadata": {},
   "source": [
    "Question: Which artwork was photographed by the most photographers?"
   ]
  },
  {
   "cell_type": "code",
   "execution_count": 15,
   "metadata": {},
   "outputs": [
    {
     "name": "stdout",
     "output_type": "stream",
     "text": [
      "The artworks with the most photographers were photographed by 8 diffrent persons\n"
     ]
    }
   ],
   "source": [
    "#Answer Part 1\n",
    "\n",
    "counter = 0\n",
    "for work in work_photographer_relation_dict:\n",
    "    if ((len(work_photographer_relation_dict[work]) > 1) and (len(work_photographer_relation_dict[work]) > counter)):\n",
    "        counter = len(work_photographer_relation_dict[work])\n",
    "\n",
    "print(\"The artworks with the most photographers were photographed by {} diffrent persons\".format(counter))\n"
   ]
  },
  {
   "cell_type": "code",
   "execution_count": 16,
   "metadata": {},
   "outputs": [
    {
     "name": "stdout",
     "output_type": "stream",
     "text": [
      "Answer: 2 artworks were photographed by 8 photographers. These are the IDs: ['07930087', '07501527']\n"
     ]
    }
   ],
   "source": [
    "#Answer Part 2\n",
    "\n",
    "works = []\n",
    "for work in work_photographer_relation_dict:\n",
    "    if len(work_photographer_relation_dict[work]) == 8:\n",
    "        works.append(work)\n",
    "\n",
    "print(\"Answer: {} artworks were photographed by {} photographers. These are the IDs: {}\".format(len(works), counter, works))"
   ]
  },
  {
   "cell_type": "code",
   "execution_count": 17,
   "metadata": {},
   "outputs": [
    {
     "name": "stdout",
     "output_type": "stream",
     "text": [
      "{'Sigismondi,Roberto': 6, 'Artini,Luigi': 2, 'Brogi': 1, 'Lotz-Bauer,Hilde': 1, 'Polesel,Mario': 2, 'Schmidt,HansWerner': 1, 'Bazzechi,Ivo': 2, 'Trachtenberg,Marvin': 1}\n"
     ]
    }
   ],
   "source": [
    "print(work_photographer_relation_dict[works[0]])"
   ]
  },
  {
   "cell_type": "code",
   "execution_count": 18,
   "metadata": {},
   "outputs": [],
   "source": [
    "quantity_work_photographer_dict = {}\n",
    "\n",
    "for work in work_photographer_relation_dict:\n",
    "    if len(work_photographer_relation_dict[work]) not in quantity_work_photographer_dict:\n",
    "        quantity_work_photographer_dict[len(work_photographer_relation_dict[work])] = 1\n",
    "    else:\n",
    "        quantity_work_photographer_dict[len(work_photographer_relation_dict[work])] += 1"
   ]
  },
  {
   "cell_type": "code",
   "execution_count": 19,
   "metadata": {},
   "outputs": [
    {
     "name": "stdout",
     "output_type": "stream",
     "text": [
      "Number of Artworks which are photographed by 8 photographers: 2\n",
      "Number of Artworks which are photographed by 7 photographers: 1\n",
      "Number of Artworks which are photographed by 6 photographers: 2\n",
      "Number of Artworks which are photographed by 5 photographers: 15\n",
      "Number of Artworks which are photographed by 4 photographers: 37\n",
      "Number of Artworks which are photographed by 3 photographers: 95\n",
      "Number of Artworks which are photographed by 2 photographers: 536\n",
      "Number of Artworks which are photographed by 1 photographers: 13361\n"
     ]
    }
   ],
   "source": [
    "sorted_key_list = list(quantity_work_photographer_dict.keys())\n",
    "sorted_key_list.sort(reverse=True)\n",
    "# print(sorted_key_list)\n",
    "\n",
    "for key in sorted_key_list:\n",
    "    print(\"Number of Artworks which are photographed by {} photographers: {}\".format(key, quantity_work_photographer_dict[key]))"
   ]
  },
  {
   "cell_type": "markdown",
   "metadata": {},
   "source": [
    "## Photographer / Artist Relation"
   ]
  },
  {
   "cell_type": "code",
   "execution_count": 20,
   "metadata": {},
   "outputs": [],
   "source": [
    "work_dict = {}\n",
    "for key in list(data.keys()):\n",
    "    if key.__contains__(\"work\"):\n",
    "        work_dict[key] = data[key]"
   ]
  },
  {
   "cell_type": "code",
   "execution_count": 21,
   "metadata": {},
   "outputs": [],
   "source": [
    "actor_dict = {}\n",
    "for key in list(data.keys()):\n",
    "    if key.__contains__(\"actor\"):\n",
    "        actor_dict[key] = data[key]"
   ]
  },
  {
   "cell_type": "code",
   "execution_count": 22,
   "metadata": {},
   "outputs": [],
   "source": [
    "type_dict = {}\n",
    "for key in list(data.keys()):\n",
    "    if key.__contains__(\"type\"):\n",
    "        type_dict[key] = data[key]"
   ]
  },
  {
   "cell_type": "code",
   "execution_count": 23,
   "metadata": {},
   "outputs": [],
   "source": [
    "photo_dict = {}\n",
    "for key in list(data.keys()):\n",
    "    if key.__contains__(\"photo\"):\n",
    "        photo_dict[key] = data[key]"
   ]
  },
  {
   "cell_type": "code",
   "execution_count": 24,
   "metadata": {},
   "outputs": [],
   "source": [
    "photos_with_works = {}\n",
    "for counter, photo in enumerate(photo_dict):\n",
    "    for attribute in photo_dict[photo]:\n",
    "        for index in range(len(attribute)):\n",
    "            if type(attribute[index]) == list and \"P128_carries(cidoc-crm)\" in attribute[index]:\n",
    "                photos_with_works[photo] = photo_dict[photo]\n",
    "            \"\"\"\n",
    "            if type(attribute[index]) == dict:\n",
    "                print(attribute[index])\n",
    "            \"\"\""
   ]
  },
  {
   "cell_type": "code",
   "execution_count": 25,
   "metadata": {},
   "outputs": [],
   "source": [
    "photographer_dict = {}\n",
    "\n",
    "for counter, photo in enumerate(photos_with_works):\n",
    "    for attribute in photo_dict[photo]:\n",
    "        for index in range(len(attribute)):\n",
    "            if type(attribute[index]) == list and \"P128_carries(cidoc-crm)\" in attribute[index]:\n",
    "                work_on_photo = [ element.split(\"(\")[1].replace(\")\", \"\") for element in attribute[index] if element.__contains__(\"visual_item\")][0]\n",
    "            if type(attribute[index]) == list and \"P14_carried_out_by(cidoc-crm)\" in attribute[index]:\n",
    "                photographer = exchange_id_with_value([element for element in attribute[index] if element.__contains__(\"actor\")][0])\n",
    "\n",
    "    if photographer not in photographer_dict:\n",
    "        photographer_dict[photographer] = {work_on_photo: 1}\n",
    "    elif work_on_photo not in photographer_dict[photographer]:\n",
    "        photographer_dict[photographer][work_on_photo] = 1\n",
    "    else:\n",
    "        photographer_dict[photographer][work_on_photo] += 1"
   ]
  },
  {
   "cell_type": "code",
   "execution_count": 26,
   "metadata": {},
   "outputs": [
    {
     "name": "stdout",
     "output_type": "stream",
     "text": [
      "68\n",
      "['Sigismondi,Roberto', 'Artini,Luigi', 'Brogi', 'Fiorucci,Carlo', 'Visconti,FrancescoArese']\n",
      "4049\n"
     ]
    }
   ],
   "source": [
    "print(len(photographer_dict))\n",
    "print(list(photographer_dict.keys())[0:5])\n",
    "print(len(photographer_dict[list(photographer_dict.keys())[0]]))"
   ]
  },
  {
   "cell_type": "code",
   "execution_count": 29,
   "metadata": {},
   "outputs": [
    {
     "name": "stdout",
     "output_type": "stream",
     "text": [
      "77\n",
      "273\n",
      "59\n",
      "{'Sigismondi,Roberto': {'Campi,Bernardino(1522)': 44, 'Crespi,Daniele': 142, 'Garofalo': 137, 'Mazzucco,Giovanni': 82, 'Papa,Carlo': 43, 'Bianchi,Isidoro': 35, 'Guido(1188)': 137, 'Loo,Jean-Baptistevan': 21, 'Bibiena,Ferdinando': 6, 'Torricelli,AntonioMaria': 94, 'Gaggini,Domenico': 768, 'Fontana,Carlo(1638)': 37, 'Borlone,Giacomo': 434, 'Volpato,GiovanniBattista': 11, 'Bassano,Leandro': 143, 'Damini,Pietro': 31, 'Fogolino,Marcello': 1, 'Memling,Hans': 81, 'Valdambrino,Francescodi': 165, 'Sensi,BattistadiCristofanello': 84, 'Peruzzi,Baldassare': 54, 'Vasari,Giorgio': 378, 'Vaccaro,DomenicoAntonio': 644, 'Salimbeni,Ventura': 148, 'Santagostino,Agostino': 37, 'ArcangelodiColadaCamerino': 124, 'CimadaConegliano,GiovanniBattista': 162, 'Sangallo,Antonioda(derÄltere)': 231, \"Robertod'Oderisio\": 5, 'Gamberucci,Cosimo': 427, 'CristoforodiBindoccio': 20, 'AntoniodaFabriano(1451)': 21, 'SanodiPietro': 47, 'MatteodaGualdo': 458, 'GirolamodiMatteodaGualdo': 35, 'Bordone,Paris': 52, 'Amadeo,GiovanniAntonio': 133, 'Porta,Orazio': 89, 'NiccolòdiLiberatorediGiacomodiMariano': 22, 'Barchi,Giacomo': 10, 'DeVegni,Luigi': 68, 'Rotellini,Socrate': 9, 'Avanzi,JacopodiPietro': 118, 'MaestrodiFossato': 21, 'MaestrodeiBeatiBecchetti': 7, 'BernardodiGirolamodaGualdo': 31, 'Gherardi,Antonio': 100, 'Lotto,Lorenzo': 29, 'Giongo,Franz': 216, 'Sodoma': 164, 'Pordenone,GiovanniAntoniodeLodesanis': 99, 'Brustolon,Andrea': 43, 'GiovanniVeneziano(1211)': 79, 'GiacominodaIvrea': 287, 'BartolomeodiTommaso(1408)': 540, 'Arrigoni,GiovanniBattista': 324, 'Lombardo,Mariano': 116, 'Boscoli,TommasodiPietro': 121, 'Canonica,Luigi': 314}}\n",
      "38\n"
     ]
    }
   ],
   "source": [
    "artworks_with_artists = set()\n",
    "work_not_in_data = []\n",
    "photographer_artist_dict = {}\n",
    "artist = None\n",
    "for photographer in photographer_dict:\n",
    "    photographer_artist_dict[photographer] = {}\n",
    "    for photo in photographer_dict[photographer]:\n",
    "        try:\n",
    "            for attribute in work_dict[photo+\"(work)\"]:\n",
    "                for index in range(len(attribute)):\n",
    "                    if type(attribute[index]) == list and \"P14_carried_out_by(cidoc-crm)\" in attribute[index]:\n",
    "                        artworks_with_artists.add(photo)\n",
    "                        artist = exchange_id_with_value([element for element in attribute[index] if element.__contains__(\"actor\")][0])\n",
    "\n",
    "            if (artist not in photographer_artist_dict[photographer]) and artist != None:\n",
    "                photographer_artist_dict[photographer][artist] = photographer_dict[photographer][photo]\n",
    "            elif artist in photographer_artist_dict[photographer]:\n",
    "                photographer_artist_dict[photographer][artist] += photographer_dict[photographer][photo]\n",
    "\n",
    "        except KeyError as e:\n",
    "            work_not_in_data.append(photo)\n",
    "            continue\n",
    "        \n",
    "\n",
    "    break\n",
    "\n",
    "print(len(artworks_with_artists))\n",
    "print(len(work_not_in_data))\n",
    "\n",
    "print(len(photographer_artist_dict['Sigismondi,Roberto']))\n",
    "print(photographer_artist_dict)\n",
    "\n",
    "print(photographer_dict['Sigismondi,Roberto'][\"07705617\"])"
   ]
  }
 ],
 "metadata": {
  "interpreter": {
   "hash": "8c01cf5487a1c433a34d8115dcd9e4ed69de96a5d3bcc1c6a229ce815a5b0df7"
  },
  "kernelspec": {
   "display_name": "Python 3.8.5 ('tenscorflow')",
   "language": "python",
   "name": "python3"
  },
  "language_info": {
   "codemirror_mode": {
    "name": "ipython",
    "version": 3
   },
   "file_extension": ".py",
   "mimetype": "text/x-python",
   "name": "python",
   "nbconvert_exporter": "python",
   "pygments_lexer": "ipython3",
   "version": "3.8.5"
  },
  "orig_nbformat": 4
 },
 "nbformat": 4,
 "nbformat_minor": 2
}
