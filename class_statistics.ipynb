{
 "cells": [
  {
   "cell_type": "markdown",
   "metadata": {},
   "source": [
    "# Class Statistics\n",
    "\n",
    "The process for the class statistics is relativly repatative. The comments for this code is more focused on putting the results into context."
   ]
  },
  {
   "cell_type": "markdown",
   "metadata": {},
   "source": [
    "Importing exported, transformed dataclasses"
   ]
  },
  {
   "cell_type": "code",
   "execution_count": 1,
   "metadata": {},
   "outputs": [],
   "source": [
    "import json\n",
    "import matplotlib.pyplot as plt\n",
    "import operator"
   ]
  },
  {
   "cell_type": "code",
   "execution_count": 2,
   "metadata": {},
   "outputs": [],
   "source": [
    "with open(\"K:\\\\Pharos-all_data\\\\entity_dump_cleaned_and_restructured_2.json\", encoding = 'cp1252') as f:\n",
    "    data = json.load(f)"
   ]
  },
  {
   "cell_type": "markdown",
   "metadata": {},
   "source": [
    "### Functions\n",
    "\n",
    "This function replaces an id with the corresponding label. I.e. you want to see which artist or which place is ment by an certain id. This works for simple classes like actors, places and types but not for complex classes like works since they have multiple label tags.  "
   ]
  },
  {
   "cell_type": "code",
   "execution_count": 3,
   "metadata": {},
   "outputs": [],
   "source": [
    "def exchange_id_with_value(id):\n",
    "    value = data[id]\n",
    "    for index in range(len(data[id])):\n",
    "        for index_2 in range(len(data[id][index])):\n",
    "            if type(data[id][index][index_2]) == dict:\n",
    "                label = data[id][index][index_2][\"Label\"]\n",
    "                break\n",
    "\n",
    "\n",
    "    return label"
   ]
  },
  {
   "cell_type": "markdown",
   "metadata": {},
   "source": [
    "## Artwork / Artist Relation"
   ]
  },
  {
   "cell_type": "markdown",
   "metadata": {},
   "source": [
    "collecting all works from the data"
   ]
  },
  {
   "cell_type": "code",
   "execution_count": null,
   "metadata": {},
   "outputs": [],
   "source": [
    "work_dict = {}\n",
    "for key in list(data.keys()):\n",
    "    if key.__contains__(\"work\"):\n",
    "        work_dict[key] = data[key]"
   ]
  },
  {
   "cell_type": "markdown",
   "metadata": {},
   "source": [
    "looking for the artist of each artwork. When there is no artist, a placeholder will be created"
   ]
  },
  {
   "cell_type": "code",
   "execution_count": null,
   "metadata": {},
   "outputs": [],
   "source": [
    "works_and_artists = {}\n",
    "for work in list(work_dict.keys()):\n",
    "    for attribute in work_dict[work]:\n",
    "        for index in range(len(attribute)):\n",
    "            if type(attribute[index]) == list and attribute[index][0] == \"PC14_carried_out_by(cidoc-crm)\":\n",
    "                work_as_key = work.split(\"(\")[0]\n",
    "                artist_id = attribute[index][1].split(\"(\")[0]\n",
    "            elif type(attribute[index]) == list and attribute[index][1] == \"PC14_carried_out_by(cidoc-crm)\":\n",
    "                work_as_key = work.split(\"(\")[0]\n",
    "                artist_id = attribute[index][0].split(\"(\")[0]\n",
    "\n",
    "            if type(attribute[index]) == list and attribute[index][0] == \"P14.1_in_the_role_of(cidoc-crm)\":\n",
    "                profession_id = exchange_id_with_value(attribute[index][1])\n",
    "            elif type(attribute[index]) == list and attribute[index][0] == \"P14.1_in_the_role_of(cidoc-crm)\":\n",
    "                profession_id = exchange_id_with_value(attribute[index][0])\n",
    "\n",
    "    if work_as_key != None:\n",
    "        works_and_artists[work_as_key] = (artist_id, profession_id)\n",
    "    \n",
    "      \n",
    "    if work_as_key == None:\n",
    "        work_as_key = work.split(\"(\")[0]\n",
    "        works_and_artists[work_as_key] = [\"No Artist\", None]\n",
    "\n",
    "    work_as_key = None\n",
    "    \n"
   ]
  },
  {
   "cell_type": "code",
   "execution_count": null,
   "metadata": {},
   "outputs": [],
   "source": [
    "professions = set()\n",
    "for element in works_and_artists:\n",
    "    professions.add(works_and_artists[element][1])"
   ]
  },
  {
   "cell_type": "code",
   "execution_count": null,
   "metadata": {},
   "outputs": [],
   "source": [
    "print(professions)"
   ]
  },
  {
   "cell_type": "markdown",
   "metadata": {},
   "source": [
    "Iterating over each artwork and counting the occourences of artist. Counting, how many works an artist has done."
   ]
  },
  {
   "cell_type": "code",
   "execution_count": null,
   "metadata": {},
   "outputs": [],
   "source": [
    "artist_work_count = {}\n",
    "artist_and_profession = {}\n",
    "for work in list(works_and_artists.keys()):\n",
    "    if works_and_artists[work][0] not in artist_work_count:\n",
    "        artist_work_count[works_and_artists[work][0]] = [1, works_and_artists[work][1]]\n",
    "        artist_and_profession[works_and_artists[work][0]] = works_and_artists[work][1]\n",
    "    else:\n",
    "        artist_work_count[works_and_artists[work][0]][0] += 1"
   ]
  },
  {
   "cell_type": "markdown",
   "metadata": {},
   "source": [
    "Iterating over the artists and counting each artist with a certain amount of artworks. How many artists have made exactly one artwork, how many have made two and so on"
   ]
  },
  {
   "cell_type": "code",
   "execution_count": null,
   "metadata": {},
   "outputs": [],
   "source": [
    "artists_with_mult_works_count = {}\n",
    "\n",
    "for artist in list(artist_work_count.keys()):\n",
    "    if artist_work_count[artist][0] not in artists_with_mult_works_count:\n",
    "        artists_with_mult_works_count[artist_work_count[artist][0]] = 1\n",
    "    else:\n",
    "        artists_with_mult_works_count[artist_work_count[artist][0]] += 1"
   ]
  },
  {
   "cell_type": "markdown",
   "metadata": {},
   "source": [
    "Transforming the dictionary data in a list of coordinates and splitting them in two seperate lists."
   ]
  },
  {
   "cell_type": "code",
   "execution_count": null,
   "metadata": {},
   "outputs": [],
   "source": [
    "sorted_keys = list(artists_with_mult_works_count.keys())\n",
    "sorted_keys.sort()\n",
    "\n",
    "artists_with_mult_works_count_list = []\n",
    "for key in sorted_keys:\n",
    "    artists_with_mult_works_count_list.append([key, artists_with_mult_works_count[key]])\n",
    "\n",
    "works_count = [element[0] for element in artists_with_mult_works_count_list]\n",
    "artist_count = [element[1] for element in artists_with_mult_works_count_list]"
   ]
  },
  {
   "cell_type": "markdown",
   "metadata": {},
   "source": [
    "ploting the data"
   ]
  },
  {
   "cell_type": "code",
   "execution_count": null,
   "metadata": {},
   "outputs": [],
   "source": [
    "plt.figure(figsize=(25,25))\n",
    "plt.yscale('log')\n",
    "plt.xscale('log')\n",
    "plt.scatter(works_count, artist_count)\n",
    "#plt.axis([0,100,0,100])\n",
    "plt.title(\"Artwork / Artist Relation\")\n",
    "plt.xlabel(\"number of artworks\")\n",
    "plt.ylabel(\"number of artists\")"
   ]
  },
  {
   "cell_type": "code",
   "execution_count": null,
   "metadata": {},
   "outputs": [],
   "source": [
    "most_works = [element[0] for element in list(artist_work_count.values())]\n",
    "most_works.sort(reverse=True)\n",
    "most_works = most_works[1:11]"
   ]
  },
  {
   "cell_type": "code",
   "execution_count": null,
   "metadata": {},
   "outputs": [],
   "source": [
    "top_artists = [element for element in artist_work_count if artist_work_count[element][0] in most_works]\n",
    "top_artists = [element + \"(actor)\" for element in top_artists]\n",
    "top_artists = [exchange_id_with_value(element) for element in top_artists]"
   ]
  },
  {
   "cell_type": "code",
   "execution_count": null,
   "metadata": {},
   "outputs": [],
   "source": [
    "print(\"Artists with most artworks\")\n",
    "for element in top_artists:\n",
    "    print(\"{}\".format(element))"
   ]
  },
  {
   "cell_type": "markdown",
   "metadata": {},
   "source": [
    "## Artwork / Location Relation"
   ]
  },
  {
   "cell_type": "markdown",
   "metadata": {},
   "source": [
    "collecting all works from the data"
   ]
  },
  {
   "cell_type": "code",
   "execution_count": null,
   "metadata": {},
   "outputs": [],
   "source": [
    "work_dict = {}\n",
    "for key in list(data.keys()):\n",
    "    if key.__contains__(\"work\"):\n",
    "        work_dict[key] = data[key]"
   ]
  },
  {
   "cell_type": "code",
   "execution_count": null,
   "metadata": {},
   "outputs": [],
   "source": [
    "works_and_places = {}\n",
    "for work in list(work_dict.keys()):\n",
    "    for attribute in work_dict[work]:\n",
    "        for index in range(len(attribute)):\n",
    "            if type(attribute[index]) == list and attribute[index][0] == \"P55_has_current_location(cidoc-crm)\":\n",
    "                work_as_key = work.split(\"(\")[0]\n",
    "                place_id = attribute[index][1].split(\"(\")[0]\n",
    "            elif type(attribute[index]) == list and attribute[index][1] == \"P55_has_current_location(cidoc-crm)\":\n",
    "                work_as_key = work.split(\"(\")[0]\n",
    "                place_id = attribute[index][0].split(\"(\")[0]\n",
    "            \"\"\"\n",
    "            if type(attribute[index]) == list and attribute[index][0] == \"P14.1_in_the_role_of(cidoc-crm)\":\n",
    "                profession_id = exchange_id_with_value(attribute[index][1])\n",
    "            elif type(attribute[index]) == list and attribute[index][0] == \"P14.1_in_the_role_of(cidoc-crm)\":\n",
    "                profession_id = exchange_id_with_value(attribute[index][0])\n",
    "                \"\"\"\n",
    "\n",
    "    if work_as_key != None:\n",
    "        works_and_places[work_as_key] = place_id\n",
    "    \n",
    "      \n",
    "    if work_as_key == None:\n",
    "        work_as_key = work.split(\"(\")[0]\n",
    "        works_and_places[work_as_key] = \"No Place\"\n",
    "\n",
    "    work_as_key = None\n",
    "    \n"
   ]
  },
  {
   "cell_type": "code",
   "execution_count": null,
   "metadata": {},
   "outputs": [],
   "source": [
    "place_work_count = {}\n",
    "for work in list(works_and_places.keys()):\n",
    "    if works_and_places[work] not in place_work_count:\n",
    "        place_work_count[works_and_places[work]] = 1\n",
    "    else:\n",
    "        place_work_count[works_and_places[work]] += 1"
   ]
  },
  {
   "cell_type": "code",
   "execution_count": null,
   "metadata": {},
   "outputs": [],
   "source": [
    "places_with_mult_works_count = {}\n",
    "\n",
    "for place in list(place_work_count.keys()):\n",
    "    if place_work_count[place] not in places_with_mult_works_count:\n",
    "        places_with_mult_works_count[place_work_count[place]] = 1\n",
    "    else:\n",
    "        places_with_mult_works_count[place_work_count[place]] += 1"
   ]
  },
  {
   "cell_type": "code",
   "execution_count": null,
   "metadata": {},
   "outputs": [],
   "source": [
    "sorted_keys = list(places_with_mult_works_count.keys())\n",
    "sorted_keys.sort()\n",
    "\n",
    "places_with_mult_works_count_list = []\n",
    "for key in sorted_keys:\n",
    "    places_with_mult_works_count_list.append([key, places_with_mult_works_count[key]])\n",
    "\n",
    "works_count = [element[0] for element in places_with_mult_works_count_list]\n",
    "places_count = [element[1] for element in places_with_mult_works_count_list]"
   ]
  },
  {
   "cell_type": "code",
   "execution_count": null,
   "metadata": {},
   "outputs": [],
   "source": [
    "plt.figure(figsize=(25,25))\n",
    "plt.scatter(works_count, places_count)\n",
    "plt.yscale('log')\n",
    "plt.xscale('log')\n",
    "plt.title(\"Artwork / Location Relation\")\n",
    "plt.xlabel(\"number of works\")\n",
    "plt.ylabel(\"number of places\")"
   ]
  },
  {
   "cell_type": "code",
   "execution_count": null,
   "metadata": {},
   "outputs": [],
   "source": [
    "most_works = [element for element in list(place_work_count.values())]\n",
    "most_works.sort(reverse=True)\n",
    "most_works = most_works[1:11]"
   ]
  },
  {
   "cell_type": "code",
   "execution_count": null,
   "metadata": {},
   "outputs": [],
   "source": [
    "top_places = [element for element in place_work_count if place_work_count[element] in most_works]\n",
    "top_places = [element + \"(place)\" for element in top_places]\n",
    "top_places = [exchange_id_with_value(element) for element in top_places]"
   ]
  },
  {
   "cell_type": "code",
   "execution_count": null,
   "metadata": {},
   "outputs": [],
   "source": [
    "print(\"Places with most artworks\")\n",
    "for element in top_places:\n",
    "    print(\"{}\".format(element))"
   ]
  },
  {
   "cell_type": "markdown",
   "metadata": {},
   "source": [
    "## Person / Location Relation"
   ]
  },
  {
   "cell_type": "code",
   "execution_count": null,
   "metadata": {},
   "outputs": [],
   "source": [
    "person_dict = {}\n",
    "for key in list(data.keys()):\n",
    "    if key.__contains__(\"actor\"):\n",
    "        person_dict[key] = data[key]"
   ]
  },
  {
   "cell_type": "code",
   "execution_count": null,
   "metadata": {},
   "outputs": [],
   "source": [
    "persons_and_places = {}\n",
    "person_as_key = None\n",
    "for person in list(person_dict.keys()):\n",
    "    for attribute in person_dict[person]:\n",
    "        for index in range(len(attribute)):\n",
    "            if type(attribute[index]) == list and attribute[index][0] == \"P74_has_current_or_former_residence(cidoc-crm)\":\n",
    "                person_as_key = person.split(\"(\")[0]\n",
    "                place_id = attribute[index][1].split(\"(\")[0]\n",
    "            elif type(attribute[index]) == list and attribute[index][1] == \"P74_has_current_or_former_residence(cidoc-crm)\":\n",
    "                person_as_key = person.split(\"(\")[0]\n",
    "                place_id = attribute[index][0].split(\"(\")[0]\n",
    "            \"\"\"\n",
    "            if type(attribute[index]) == list and attribute[index][0] == \"P14.1_in_the_role_of(cidoc-crm)\":\n",
    "                profession_id = exchange_id_with_value(attribute[index][1])\n",
    "            elif type(attribute[index]) == list and attribute[index][0] == \"P14.1_in_the_role_of(cidoc-crm)\":\n",
    "                profession_id = exchange_id_with_value(attribute[index][0])\n",
    "                \"\"\"\n",
    "\n",
    "    if person_as_key != None:\n",
    "        persons_and_places[person_as_key] = place_id\n",
    "    \n",
    "      \n",
    "    if person_as_key == None:\n",
    "        person_as_key = person.split(\"(\")[0]\n",
    "        persons_and_places[person_as_key] = \"No Place\"\n",
    "\n",
    "    person_as_key = None\n",
    "    \n"
   ]
  },
  {
   "cell_type": "code",
   "execution_count": null,
   "metadata": {},
   "outputs": [],
   "source": [
    "place_person_count = {}\n",
    "for person in list(persons_and_places.keys()):\n",
    "    if persons_and_places[person] not in place_person_count:\n",
    "        place_person_count[persons_and_places[person]] = 1\n",
    "    else:\n",
    "        place_person_count[persons_and_places[person]] += 1"
   ]
  },
  {
   "cell_type": "code",
   "execution_count": null,
   "metadata": {},
   "outputs": [],
   "source": [
    "places_with_mult_persons_count = {}\n",
    "\n",
    "for place in list(place_person_count.keys()):\n",
    "    if place_person_count[place] not in places_with_mult_persons_count:\n",
    "        places_with_mult_persons_count[place_person_count[place]] = 1\n",
    "    else:\n",
    "        places_with_mult_persons_count[place_person_count[place]] += 1"
   ]
  },
  {
   "cell_type": "code",
   "execution_count": null,
   "metadata": {},
   "outputs": [],
   "source": [
    "sorted_keys = list(places_with_mult_persons_count.keys())\n",
    "sorted_keys.sort()\n",
    "\n",
    "places_with_mult_persons_count_list = []\n",
    "for key in sorted_keys:\n",
    "    places_with_mult_persons_count_list.append([key, places_with_mult_persons_count[key]])\n",
    "\n",
    "persons_count = [element[0] for element in places_with_mult_persons_count_list]\n",
    "places_count = [element[1] for element in places_with_mult_persons_count_list]"
   ]
  },
  {
   "cell_type": "code",
   "execution_count": null,
   "metadata": {},
   "outputs": [],
   "source": [
    "plt.figure(figsize=(25,25))\n",
    "plt.scatter(persons_count, places_count)\n",
    "plt.yscale('log')\n",
    "plt.xscale('log')\n",
    "#plt.axis([0,250,0,250])\n",
    "plt.title(\"Person / Location Relation\")\n",
    "plt.xlabel(\"number of persons\")\n",
    "plt.ylabel(\"number of places\")"
   ]
  },
  {
   "cell_type": "code",
   "execution_count": null,
   "metadata": {},
   "outputs": [],
   "source": [
    "most_persons = [element for element in list(place_person_count.values())]\n",
    "most_persons.sort(reverse=True)\n",
    "most_persons = most_persons[1:11]"
   ]
  },
  {
   "cell_type": "code",
   "execution_count": null,
   "metadata": {},
   "outputs": [],
   "source": [
    "top_places = [element for element in place_person_count if place_person_count[element] in most_persons]\n",
    "top_places = [element + \"(place)\" for element in top_places]\n",
    "top_places = [exchange_id_with_value(element) for element in top_places]"
   ]
  },
  {
   "cell_type": "code",
   "execution_count": null,
   "metadata": {},
   "outputs": [],
   "source": [
    "print(\"Places with most Artists\")\n",
    "for element in top_places:\n",
    "    print(\"{}\".format(element))"
   ]
  },
  {
   "cell_type": "markdown",
   "metadata": {},
   "source": [
    "## Photographer / Artwork Relation"
   ]
  },
  {
   "cell_type": "markdown",
   "metadata": {},
   "source": [
    "### Preprocessing\n",
    "\n",
    "In this part of the code all the different classes will be collected from the data and stored in separate dictionaries of data."
   ]
  },
  {
   "cell_type": "code",
   "execution_count": 4,
   "metadata": {},
   "outputs": [],
   "source": [
    "work_dict = {}\n",
    "for key in list(data.keys()):\n",
    "    if key.__contains__(\"work\"):\n",
    "        work_dict[key] = data[key]"
   ]
  },
  {
   "cell_type": "code",
   "execution_count": 5,
   "metadata": {},
   "outputs": [],
   "source": [
    "actor_dict = {}\n",
    "for key in list(data.keys()):\n",
    "    if key.__contains__(\"actor\"):\n",
    "        actor_dict[key] = data[key]"
   ]
  },
  {
   "cell_type": "code",
   "execution_count": 6,
   "metadata": {},
   "outputs": [],
   "source": [
    "type_dict = {}\n",
    "for key in list(data.keys()):\n",
    "    if key.__contains__(\"type\"):\n",
    "        type_dict[key] = data[key]"
   ]
  },
  {
   "cell_type": "code",
   "execution_count": 7,
   "metadata": {},
   "outputs": [],
   "source": [
    "photo_dict = {}\n",
    "for key in list(data.keys()):\n",
    "    if key.__contains__(\"photo\"):\n",
    "        photo_dict[key] = data[key]"
   ]
  },
  {
   "cell_type": "markdown",
   "metadata": {},
   "source": [
    "To see if the photo carries a motive, we have to look at the \"P128_carries(cidoc-crm)\" relation of each photo. Propably not every photo without this relation has no motive, but it may not be present in the dataset."
   ]
  },
  {
   "cell_type": "code",
   "execution_count": 8,
   "metadata": {},
   "outputs": [],
   "source": [
    "photos_with_works = {}\n",
    "for counter, photo in enumerate(photo_dict):\n",
    "    for attribute in photo_dict[photo]:\n",
    "        for index in range(len(attribute)):\n",
    "            if type(attribute[index]) == list and \"P128_carries(cidoc-crm)\" in attribute[index]:\n",
    "                photos_with_works[photo] = photo_dict[photo]"
   ]
  },
  {
   "cell_type": "code",
   "execution_count": 10,
   "metadata": {},
   "outputs": [
    {
     "name": "stdout",
     "output_type": "stream",
     "text": [
      "Number of photos in the dataset: 45192\n",
      "Number of photos with a relation to an artwork from the dataset: 33029\n"
     ]
    }
   ],
   "source": [
    "print(\"Number of photos in the dataset: {}\".format(len(photo_dict)))\n",
    "\n",
    "print(\"Number of photos with a relation to an artwork from the dataset: {}\".format(len(photos_with_works)))"
   ]
  },
  {
   "cell_type": "markdown",
   "metadata": {},
   "source": [
    "The following code collects all photographers in the dataset and counts the amount of photos of them."
   ]
  },
  {
   "cell_type": "code",
   "execution_count": 38,
   "metadata": {},
   "outputs": [],
   "source": [
    "photographer_dict = {}\n",
    "\n",
    "for counter, photo in enumerate(photo_dict):\n",
    "    for attribute in photo_dict[photo]:\n",
    "        for index in range(len(attribute)):\n",
    "            \"\"\"\n",
    "            if type(attribute[index]) == list and \"P128_carries(cidoc-crm)\" in attribute[index]:\n",
    "                work_on_photo = [ element.split(\"(\")[1].replace(\")\", \"\") for element in attribute[index] if element.__contains__(\"visual_item\")][0]\n",
    "            \"\"\"\n",
    "            if type(attribute[index]) == list and \"P14_carried_out_by(cidoc-crm)\" in attribute[index]:\n",
    "                photographer = exchange_id_with_value([element for element in attribute[index] if element.__contains__(\"actor\")][0])\n",
    "\n",
    "    if photographer not in photographer_dict:\n",
    "        photographer_dict[photographer] = 1\n",
    "    else:\n",
    "        photographer_dict[photographer] += 1"
   ]
  },
  {
   "cell_type": "code",
   "execution_count": 39,
   "metadata": {},
   "outputs": [
    {
     "name": "stdout",
     "output_type": "stream",
     "text": [
      "Number of photographers regardless of the relation of the photos to an object: 187\n"
     ]
    }
   ],
   "source": [
    "print(\"Number of photographers regardless of the relation of the photos to an object: {}\".format(len(photographer_dict)))"
   ]
  },
  {
   "cell_type": "code",
   "execution_count": 43,
   "metadata": {},
   "outputs": [
    {
     "name": "stdout",
     "output_type": "stream",
     "text": [
      "Number of photos Bazzechi,Ivo has taken: 3196\n",
      "Number of photos Fiorucci,Carlo has taken: 1654\n"
     ]
    }
   ],
   "source": [
    "print(\"Number of photos {} has taken: {}\".format(\"Bazzechi,Ivo\", photographer_dict[\"Bazzechi,Ivo\"]))\n",
    "print(\"Number of photos {} has taken: {}\".format(\"Fiorucci,Carlo\", photographer_dict[\"Fiorucci,Carlo\"]))\n"
   ]
  },
  {
   "cell_type": "markdown",
   "metadata": {},
   "source": [
    "The following code does the same as the one before. But this time it is focused on the photos with a motive represented in the dataset. Because of that every motive will be counted seperatly."
   ]
  },
  {
   "cell_type": "code",
   "execution_count": 44,
   "metadata": {},
   "outputs": [],
   "source": [
    "photographer_dict = {}\n",
    "\n",
    "for counter, photo in enumerate(photos_with_works):\n",
    "    for attribute in photo_dict[photo]:\n",
    "        for index in range(len(attribute)):\n",
    "            if type(attribute[index]) == list and \"P128_carries(cidoc-crm)\" in attribute[index]:\n",
    "                work_on_photo = [ element.split(\"(\")[1].replace(\")\", \"\") for element in attribute[index] if element.__contains__(\"visual_item\")][0]\n",
    "            if type(attribute[index]) == list and \"P14_carried_out_by(cidoc-crm)\" in attribute[index]:\n",
    "                photographer = exchange_id_with_value([element for element in attribute[index] if element.__contains__(\"actor\")][0])\n",
    "\n",
    "    if photographer not in photographer_dict:\n",
    "        photographer_dict[photographer] = {work_on_photo: 1}\n",
    "    elif work_on_photo not in photographer_dict[photographer]:\n",
    "        photographer_dict[photographer][work_on_photo] = 1\n",
    "    else:\n",
    "        photographer_dict[photographer][work_on_photo] += 1"
   ]
  },
  {
   "cell_type": "markdown",
   "metadata": {},
   "source": [
    "The following code reveals an unexpected result. To compare both numbers for the photographers I looked on the photos of Ivo Bazzechi. In total there are 3196 photos which are related to this photographer.  \n",
    "As we know the numbers of photos with a relation to a motive is less then the total number of pictures. But when we look on this photographer and only on his photos with such a relation the number of photos climbes to 3227. The first assumption is, that probably there is a fault in the code."
   ]
  },
  {
   "cell_type": "code",
   "execution_count": 45,
   "metadata": {},
   "outputs": [
    {
     "name": "stdout",
     "output_type": "stream",
     "text": [
      "Number of photographers with photos with motive relation: 68\n",
      "Number of motives Bazzechi,Ivo has photographed: 1525\n",
      "Number of photos Bazzechi,Ivo has taken in total: 3227\n"
     ]
    }
   ],
   "source": [
    "print(\"Number of photographers with photos with motive relation: {}\".format(len(photographer_dict)))\n",
    "print(\"Number of motives {} has photographed: {}\".format(\"Bazzechi,Ivo\", len(photographer_dict[\"Bazzechi,Ivo\"])))\n",
    "\n",
    "\n",
    "total_number_of_photos_with_motive = 0\n",
    "for element in photographer_dict[\"Bazzechi,Ivo\"]:\n",
    "    total_number_of_photos_with_motive += photographer_dict[\"Bazzechi,Ivo\"][element]\n",
    "\n",
    "print(\"Number of photos {} has taken in total: {}\".format(\"Bazzechi,Ivo\", total_number_of_photos_with_motive))\n",
    "\n",
    "# print(photographer_dict[\"Bazzechi,Ivo\"])"
   ]
  },
  {
   "cell_type": "markdown",
   "metadata": {},
   "source": [
    "The following code lists five artists of the \"photographers with photos with motive relation\" dictionary. It lists their ten most photographed artworks and the total number of artworks photographed and also the total number of photos taken (With the same issue as above by \"Fiorucci,Carlo\")."
   ]
  },
  {
   "cell_type": "code",
   "execution_count": 46,
   "metadata": {},
   "outputs": [
    {
     "name": "stdout",
     "output_type": "stream",
     "text": [
      "TOP 10 artworks photographed by Sigismondi,Roberto\n",
      "\n",
      "45 times:\t07705627\n",
      "39 times:\t07705270\n",
      "38 times:\t07705617\n",
      "36 times:\t07874132\n",
      "32 times:\t07963237\n",
      "29 times:\t70004783\n",
      "27 times:\t07962386\n",
      "26 times:\t07857019\n",
      "25 times:\t70004833\n",
      "24 times:\t07874062\n",
      "\n",
      "Number of photos Sigismondi,Roberto has taken in total: 9263\n",
      "\n",
      "Total number of artworks photographed: 4049\n",
      "\n",
      "\n",
      "TOP 10 artworks photographed by Artini,Luigi\n",
      "\n",
      "60 times:\t07930037%2CT%2C001%2CT\n",
      "57 times:\t07580149\n",
      "56 times:\t07501836%2CT%2C001%2CT\n",
      "55 times:\t07873109\n",
      "50 times:\t07501836%2CT%2C001%2CT%2C002%2CT%2C001\n",
      "49 times:\t07873106\n",
      "48 times:\t70001475\n",
      "44 times:\t07930039%2CT%2C001\n",
      "44 times:\t07502889\n",
      "43 times:\t07930039%2CT%2C002\n",
      "\n",
      "Number of photos Artini,Luigi has taken in total: 6771\n",
      "\n",
      "Total number of artworks photographed: 2834\n",
      "\n",
      "\n",
      "TOP 10 artworks photographed by Brogi\n",
      "\n",
      "10 times:\t07580181\n",
      "8 times:\t07599766\n",
      "8 times:\t07605036\n",
      "8 times:\t07580319\n",
      "6 times:\t07600337\n",
      "6 times:\t07580166\n",
      "6 times:\t07580216\n",
      "5 times:\t07600318\n",
      "5 times:\t07858369\n",
      "5 times:\t07580277\n",
      "\n",
      "Number of photos Brogi has taken in total: 239\n",
      "\n",
      "Total number of artworks photographed: 146\n",
      "\n",
      "\n",
      "TOP 10 artworks photographed by Fiorucci,Carlo\n",
      "\n",
      "16 times:\t07651637\n",
      "15 times:\t07502227%2CT%2C002%2CT\n",
      "12 times:\t07650352\n",
      "9 times:\t07650620\n",
      "9 times:\t07651682\n",
      "8 times:\t07652255\n",
      "8 times:\t07857452%2CT%2C004\n",
      "8 times:\t07505419%2CT%2C001\n",
      "8 times:\t07650938\n",
      "7 times:\t07501448\n",
      "\n",
      "Number of photos Fiorucci,Carlo has taken in total: 1661\n",
      "\n",
      "Total number of artworks photographed: 1234\n",
      "\n",
      "\n",
      "TOP 10 artworks photographed by Visconti,FrancescoArese\n",
      "\n",
      "23 times:\t07856616\n",
      "22 times:\t07503313\n",
      "16 times:\t07876447\n",
      "15 times:\t07812780\n",
      "13 times:\t07500771\n",
      "13 times:\t07876519\n",
      "13 times:\t07876507\n",
      "12 times:\t07652723\n",
      "12 times:\t07876511\n",
      "12 times:\t07503091\n",
      "\n",
      "Number of photos Visconti,FrancescoArese has taken in total: 576\n",
      "\n",
      "Total number of artworks photographed: 143\n",
      "\n",
      "\n"
     ]
    }
   ],
   "source": [
    "for element in list(photographer_dict.keys())[:5]:\n",
    "    photographer_artwork_values = sorted(photographer_dict[element].items(), key=operator.itemgetter(1), reverse=True)\n",
    "    photographer_artwork_values = dict(photographer_artwork_values)\n",
    "\n",
    "    print(\"TOP 10 artworks photographed by {}\\n\".format(element))\n",
    "    for top_position in list(photographer_artwork_values.keys())[:10]:\n",
    "        print(\"{} times:\\t{}\".format(photographer_artwork_values[top_position], top_position))\n",
    "\n",
    "    total_number_of_photos_with_motive = 0\n",
    "    for photo in photographer_dict[element]:\n",
    "        total_number_of_photos_with_motive += photographer_dict[element][photo]\n",
    "\n",
    "    print(\"\\nNumber of photos {} has taken in total: {}\".format(element, total_number_of_photos_with_motive))\n",
    "    \n",
    "    print(\"\\nTotal number of artworks photographed: {}\\n\\n\".format(len(photographer_dict[element])))"
   ]
  },
  {
   "cell_type": "markdown",
   "metadata": {},
   "source": [
    "The following code asks the similar questions as above, but from the perspective of the artworks."
   ]
  },
  {
   "cell_type": "code",
   "execution_count": 13,
   "metadata": {},
   "outputs": [],
   "source": [
    "work_photographer_relation_dict = {}\n",
    "\n",
    "for photographer in photographer_dict:\n",
    "    for work in photographer_dict[photographer]:\n",
    "        if work not in work_photographer_relation_dict:\n",
    "            work_photographer_relation_dict[work] = {photographer: photographer_dict[photographer][work]}\n",
    "        else:\n",
    "            work_photographer_relation_dict[work][photographer] = photographer_dict[photographer][work]"
   ]
  },
  {
   "cell_type": "markdown",
   "metadata": {},
   "source": [
    "Question: How many artworks are photographed by multiple photographers?"
   ]
  },
  {
   "cell_type": "code",
   "execution_count": 14,
   "metadata": {},
   "outputs": [
    {
     "name": "stdout",
     "output_type": "stream",
     "text": [
      "Answer: 688 artworks were photographed by multiple photographers\n"
     ]
    }
   ],
   "source": [
    "counter = 0\n",
    "for work in work_photographer_relation_dict:\n",
    "    if len(work_photographer_relation_dict[work]) > 1:\n",
    "        counter += 1\n",
    "\n",
    "print(\"Answer: {} artworks were photographed by multiple photographers\".format(counter))"
   ]
  },
  {
   "cell_type": "markdown",
   "metadata": {},
   "source": [
    "Question: Which artwork was photographed by the most photographers?"
   ]
  },
  {
   "cell_type": "code",
   "execution_count": 15,
   "metadata": {},
   "outputs": [
    {
     "name": "stdout",
     "output_type": "stream",
     "text": [
      "The artworks with the most photographers were photographed by 8 diffrent persons\n"
     ]
    }
   ],
   "source": [
    "#Answer Part 1\n",
    "\n",
    "counter = 0\n",
    "for work in work_photographer_relation_dict:\n",
    "    if ((len(work_photographer_relation_dict[work]) > 1) and (len(work_photographer_relation_dict[work]) > counter)):\n",
    "        counter = len(work_photographer_relation_dict[work])\n",
    "\n",
    "print(\"The artworks with the most photographers were photographed by {} diffrent persons\".format(counter))\n"
   ]
  },
  {
   "cell_type": "code",
   "execution_count": 16,
   "metadata": {},
   "outputs": [
    {
     "name": "stdout",
     "output_type": "stream",
     "text": [
      "Answer: 2 artworks were photographed by 8 photographers. These are the IDs: ['07930087', '07501527']\n"
     ]
    }
   ],
   "source": [
    "#Answer Part 2\n",
    "\n",
    "works = []\n",
    "for work in work_photographer_relation_dict:\n",
    "    if len(work_photographer_relation_dict[work]) == 8:\n",
    "        works.append(work)\n",
    "\n",
    "print(\"Answer: {} artworks were photographed by {} photographers. These are the IDs: {}\".format(len(works), counter, works))"
   ]
  },
  {
   "cell_type": "code",
   "execution_count": 17,
   "metadata": {},
   "outputs": [
    {
     "name": "stdout",
     "output_type": "stream",
     "text": [
      "{'Sigismondi,Roberto': 6, 'Artini,Luigi': 2, 'Brogi': 1, 'Lotz-Bauer,Hilde': 1, 'Polesel,Mario': 2, 'Schmidt,HansWerner': 1, 'Bazzechi,Ivo': 2, 'Trachtenberg,Marvin': 1}\n"
     ]
    }
   ],
   "source": [
    "print(work_photographer_relation_dict[works[0]])"
   ]
  },
  {
   "cell_type": "code",
   "execution_count": 18,
   "metadata": {},
   "outputs": [],
   "source": [
    "quantity_work_photographer_dict = {}\n",
    "\n",
    "for work in work_photographer_relation_dict:\n",
    "    if len(work_photographer_relation_dict[work]) not in quantity_work_photographer_dict:\n",
    "        quantity_work_photographer_dict[len(work_photographer_relation_dict[work])] = 1\n",
    "    else:\n",
    "        quantity_work_photographer_dict[len(work_photographer_relation_dict[work])] += 1"
   ]
  },
  {
   "cell_type": "code",
   "execution_count": 19,
   "metadata": {},
   "outputs": [
    {
     "name": "stdout",
     "output_type": "stream",
     "text": [
      "Number of Artworks which are photographed by 8 photographers: 2\n",
      "Number of Artworks which are photographed by 7 photographers: 1\n",
      "Number of Artworks which are photographed by 6 photographers: 2\n",
      "Number of Artworks which are photographed by 5 photographers: 15\n",
      "Number of Artworks which are photographed by 4 photographers: 37\n",
      "Number of Artworks which are photographed by 3 photographers: 95\n",
      "Number of Artworks which are photographed by 2 photographers: 536\n",
      "Number of Artworks which are photographed by 1 photographers: 13361\n"
     ]
    }
   ],
   "source": [
    "sorted_key_list = list(quantity_work_photographer_dict.keys())\n",
    "sorted_key_list.sort(reverse=True)\n",
    "# print(sorted_key_list)\n",
    "\n",
    "for key in sorted_key_list:\n",
    "    print(\"Number of Artworks which are photographed by {} photographers: {}\".format(key, quantity_work_photographer_dict[key]))"
   ]
  },
  {
   "cell_type": "markdown",
   "metadata": {},
   "source": [
    "## Photographer / Artist Relation"
   ]
  },
  {
   "cell_type": "code",
   "execution_count": 20,
   "metadata": {},
   "outputs": [],
   "source": [
    "work_dict = {}\n",
    "for key in list(data.keys()):\n",
    "    if key.__contains__(\"work\"):\n",
    "        work_dict[key] = data[key]"
   ]
  },
  {
   "cell_type": "code",
   "execution_count": 21,
   "metadata": {},
   "outputs": [],
   "source": [
    "actor_dict = {}\n",
    "for key in list(data.keys()):\n",
    "    if key.__contains__(\"actor\"):\n",
    "        actor_dict[key] = data[key]"
   ]
  },
  {
   "cell_type": "code",
   "execution_count": 22,
   "metadata": {},
   "outputs": [],
   "source": [
    "type_dict = {}\n",
    "for key in list(data.keys()):\n",
    "    if key.__contains__(\"type\"):\n",
    "        type_dict[key] = data[key]"
   ]
  },
  {
   "cell_type": "code",
   "execution_count": 23,
   "metadata": {},
   "outputs": [],
   "source": [
    "photo_dict = {}\n",
    "for key in list(data.keys()):\n",
    "    if key.__contains__(\"photo\"):\n",
    "        photo_dict[key] = data[key]"
   ]
  },
  {
   "cell_type": "code",
   "execution_count": 24,
   "metadata": {},
   "outputs": [],
   "source": [
    "photos_with_works = {}\n",
    "for counter, photo in enumerate(photo_dict):\n",
    "    for attribute in photo_dict[photo]:\n",
    "        for index in range(len(attribute)):\n",
    "            if type(attribute[index]) == list and \"P128_carries(cidoc-crm)\" in attribute[index]:\n",
    "                photos_with_works[photo] = photo_dict[photo]\n",
    "            \"\"\"\n",
    "            if type(attribute[index]) == dict:\n",
    "                print(attribute[index])\n",
    "            \"\"\""
   ]
  },
  {
   "cell_type": "code",
   "execution_count": 25,
   "metadata": {},
   "outputs": [],
   "source": [
    "photographer_dict = {}\n",
    "\n",
    "for counter, photo in enumerate(photos_with_works):\n",
    "    for attribute in photo_dict[photo]:\n",
    "        for index in range(len(attribute)):\n",
    "            if type(attribute[index]) == list and \"P128_carries(cidoc-crm)\" in attribute[index]:\n",
    "                work_on_photo = [ element.split(\"(\")[1].replace(\")\", \"\") for element in attribute[index] if element.__contains__(\"visual_item\")][0]\n",
    "            if type(attribute[index]) == list and \"P14_carried_out_by(cidoc-crm)\" in attribute[index]:\n",
    "                photographer = exchange_id_with_value([element for element in attribute[index] if element.__contains__(\"actor\")][0])\n",
    "\n",
    "    if photographer not in photographer_dict:\n",
    "        photographer_dict[photographer] = {work_on_photo: 1}\n",
    "    elif work_on_photo not in photographer_dict[photographer]:\n",
    "        photographer_dict[photographer][work_on_photo] = 1\n",
    "    else:\n",
    "        photographer_dict[photographer][work_on_photo] += 1"
   ]
  },
  {
   "cell_type": "code",
   "execution_count": 56,
   "metadata": {},
   "outputs": [
    {
     "name": "stdout",
     "output_type": "stream",
     "text": [
      "Number of artworks with an artist mentioned: 177\n",
      "Number of works which are not in the dataset: 1020\n",
      "Number of artists Sigismondi,Roberto has photographed: 59\n",
      "{'Sigismondi,Roberto': {'Campi,Bernardino(1522)': 44, 'Crespi,Daniele': 142, 'Garofalo': 137, 'Mazzucco,Giovanni': 82, 'Papa,Carlo': 43, 'Bianchi,Isidoro': 35, 'Guido(1188)': 137, 'Loo,Jean-Baptistevan': 21, 'Bibiena,Ferdinando': 6, 'Torricelli,AntonioMaria': 94, 'Gaggini,Domenico': 768, 'Fontana,Carlo(1638)': 37, 'Borlone,Giacomo': 434, 'Volpato,GiovanniBattista': 11, 'Bassano,Leandro': 143, 'Damini,Pietro': 31, 'Fogolino,Marcello': 1, 'Memling,Hans': 81, 'Valdambrino,Francescodi': 165, 'Sensi,BattistadiCristofanello': 84, 'Peruzzi,Baldassare': 54, 'Vasari,Giorgio': 378, 'Vaccaro,DomenicoAntonio': 644, 'Salimbeni,Ventura': 148, 'Santagostino,Agostino': 37, 'ArcangelodiColadaCamerino': 124, 'CimadaConegliano,GiovanniBattista': 162, 'Sangallo,Antonioda(derÄltere)': 231, \"Robertod'Oderisio\": 5, 'Gamberucci,Cosimo': 427, 'CristoforodiBindoccio': 20, 'AntoniodaFabriano(1451)': 21, 'SanodiPietro': 47, 'MatteodaGualdo': 458, 'GirolamodiMatteodaGualdo': 35, 'Bordone,Paris': 52, 'Amadeo,GiovanniAntonio': 133, 'Porta,Orazio': 89, 'NiccolòdiLiberatorediGiacomodiMariano': 22, 'Barchi,Giacomo': 10, 'DeVegni,Luigi': 68, 'Rotellini,Socrate': 9, 'Avanzi,JacopodiPietro': 118, 'MaestrodiFossato': 21, 'MaestrodeiBeatiBecchetti': 7, 'BernardodiGirolamodaGualdo': 31, 'Gherardi,Antonio': 100, 'Lotto,Lorenzo': 29, 'Giongo,Franz': 216, 'Sodoma': 164, 'Pordenone,GiovanniAntoniodeLodesanis': 99, 'Brustolon,Andrea': 43, 'GiovanniVeneziano(1211)': 79, 'GiacominodaIvrea': 287, 'BartolomeodiTommaso(1408)': 540, 'Arrigoni,GiovanniBattista': 324, 'Lombardo,Mariano': 116, 'Boscoli,TommasodiPietro': 121, 'Canonica,Luigi': 314}, 'Artini,Luigi': {'Sangallo,Antonioda(derÄltere)': 264, 'Bernini,GiovanniLorenzo': 1435, 'Beccafumi,Domenico': 163, 'Vasari,Giorgio': 2247, 'Pelori,GiovanniBattistadiMarianodiPasquino': 26, 'Giambologna': 586, 'Partini,Giuseppe': 268, 'RamodiPaganello': 318, 'Valdambrino,Francescodi': 127, 'BartolomeodiTommaso(1408)': 26, 'Perugino': 350}, 'Brogi': {'Perugino': 109}, 'Fiorucci,Carlo': {'Perugino': 85, 'Jacoposiculo': 2, 'Doni,Adone': 36, 'Bonfigli,Benedetto': 17, 'Gozzoli,Benozzo': 81, 'GiacomodiSerMichele(1412)': 97, 'Caporali,Bartolomeo': 138, 'Pintoricchio,Bernardino': 14, 'BernardinodiMariotto(1478)': 55, 'Viti,Timoteo': 26, 'Trevisani,Francesco': 179, 'Amorosi,Antonio': 4, 'FiorenzodiLorenzo': 11, 'AntoniazzoRomano': 1, 'AllegrettoNuzi': 18, 'GiovanniFrancescodaRimini(1459)': 2, 'BiccidiLorenzodiBicci': 4, 'Nelli,OttavianodiMartino': 6, 'DomenicoVeneziano(1410)': 1, 'EusebiodaSanGiorgio': 9, 'Franchi,RossellodiJacopo': 33, 'PiermatteodaAmelia': 7, 'GirolamodaCremona': 4, 'BartolomeodiTommaso(1408)': 29, 'UgolinodiGisberto': 87, 'Presciutti,Giuliano': 31, 'GiannicoladiPaolo': 29, 'NiccolòdiLiberatorediGiacomodiMariano': 4, 'MatteodaGualdo': 332, 'Caporali,GiovanniBattista': 8, 'VenanziodaCamerino': 3, 'CesiMeister': 11, 'GirolamodiMatteodaGualdo': 1, 'GirolamodiGiovanni': 11, 'MaestroIronico': 13, 'Salimbeni,Jacopo': 144, 'MeisterderFossa': 78, 'Melanzio,Francesco': 21}, 'Visconti,FrancescoArese': {'BartolomeodiTommaso(1408)': 261, 'Fontana,Carlo(1638)': 298}, 'Bacherini,Paolo': {'Fontana,Carlo(1638)': 29, 'BenedettodaMaiano': 804, 'Foggini,GiovanniBattista': 342, 'Pontormo,Jacopo': 125, 'Lippi,Filippino': 1170, 'Donatello': 2, 'MichelangeloBuonarroti': 620}, 'Horn,Walter': {'MichelangeloBuonarroti': 9}, 'Virdis,Davide': {'MichelangeloBuonarroti': 9}, 'Lensini,Andrea': {'MichelangeloBuonarroti': 104, 'Boscoli,TommasodiPietro': 10}, 'Lotz-Bauer,Hilde': {'Boscoli,TommasodiPietro': 658}, 'Polesel,Mario': {'Boscoli,TommasodiPietro': 48, 'Alesi,Andrija': 8, 'NiccolòdiGiovanniCocari': 197, 'GiovanniDalmata': 4, 'Vittoria,Alessandro': 828}, 'DeGiovanni,AndreaGaspare': {'NiccolòdiGiovanniCocari': 657}, 'Alinari': {'NiccolòdiGiovanniCocari': 20}, 'Moscioni,Romualdo': {'NiccolòdiGiovanniCocari': 25}, 'Schmidt,HansWerner': {'NiccolòdiGiovanniCocari': 169, 'Schiatti,Alberto': 24, 'BartolinodaNovara': 62, 'Oliverio': 18, 'Viani,AntonioMaria': 4}, 'Hubacher,Walter': {'Viani,AntonioMaria': 19}, 'Anderson': {'Viani,AntonioMaria': 20}, 'Laurati,Giorgio': {'Viani,AntonioMaria': 1451}, 'Bazzechi,Ivo': {'Viani,AntonioMaria': 756, 'Albani,Francesco(1578)': 825, 'Ghirlandaio,Ridolfo': 36, 'Giambologna': 35, 'Bramer,Leonaert': 307, 'MichelangeloBuonarroti': 612, 'Allori,Alessandro': 55}, 'Gizdulich,Riccardo': {}, 'Sollich,SabinenachhistorischerVorlage': {'Allori,Alessandro': 1}, 'Lieberman,Ralph': {'Allori,Alessandro': 26}, 'Ciganovic,Josip': {'Allori,Alessandro': 4}, 'Scheidt,Thomas/Stein,Christian': {'Allori,Alessandro': 145, 'Sardi,Giuseppe(1630)': 717}, 'Trachtenberg,Marvin': {'Sardi,Giuseppe(1630)': 71}, 'Artini,Luigi&Braune,Michael': {'Sardi,Giuseppe(1630)': 1}, 'Keultjes,Dagmar': {'Sardi,Giuseppe(1630)': 5}, 'Sommer,Giorgio': {'Sardi,Giuseppe(1630)': 6}, 'Braune,Michael': {'Sardi,Giuseppe(1630)': 54, 'Partini,Giuseppe': 5}, 'Hautmann,Anton': {'Partini,Giuseppe': 170, 'CellinodiNese': 66}, 'Tatge,George': {'CellinodiNese': 10}, 'Fancelli,StefanonachhistorischerVorlage': {'CellinodiNese': 18}, 'Burger,Fritz': {'CellinodiNese': 5}, 'Rabatti-DomingiePhotography': {'CellinodiNese': 337}, 'Horn,WalternachhistorischerVorlage': {'CellinodiNese': 3}, 'Lehmann-Brockhaus,Otto': {'CellinodiNese': 6}, 'Deckers-Matzko,R.J.': {'CellinodiNese': 3}, 'Weise,Georg': {'CellinodiNese': 3}, 'Plitschkowsky,M.': {'CellinodiNese': 1}, 'Sansoni,Guido': {'CellinodiNese': 1198}, 'Stillendorf': {'CellinodiNese': 2}, 'Lensini,Fabio': {'CellinodiNese': 18}, 'Degoix,Celestino': {}, 'Braun,Adolphe': {'CellinodiNese': 2}, 'Bazzechi,Ivo?': {'CellinodiNese': 2}, 'Appiani,Mario': {'CellinodiNese': 9}, 'Lombardi,Paolo': {'CellinodiNese': 1}, 'Naya,Carlo': {'CellinodiNese': 2}, 'Sansoni,Luigi': {'CellinodiNese': 1}, 'Barsotti,Ferdinando': {'CellinodiNese': 4}, 'Schleicher,Barbara': {'Sassetta,StefanodiGiovanni': 49, 'MichelangeloBuonarroti': 45, 'Montelupo,Baccioda': 19}, 'Sommer': {}, 'Frankenstein,Paul': {'Montelupo,Baccioda': 1}, 'Ceccanti,CristiannachhistorischerVorlage': {'Montelupo,Baccioda': 1}, 'Kriegbaum,Friedrich': {'Montelupo,Baccioda': 26}, 'Scholz,G.': {'Montelupo,Baccioda': 10}, 'unbekannt': {'Montelupo,Baccioda': 2}, 'Borsig,(Tet)Arnoldvon': {}, 'Anderson,Domenico': {'Montelupo,Baccioda': 2}, 'Quattrone,Antonio': {'Montelupo,Baccioda': 19}, 'BencinieSansoni': {'Montelupo,Baccioda': 5}, 'Brillet-Buyet,Luigi': {'Montelupo,Baccioda': 3}, 'Tronci,Massimiliano': {'Montelupo,Baccioda': 3}, 'Leotta,Marcello': {'Montelupo,Baccioda': 45, 'Boscoli,TommasodiPietro': 2}, 'Wiedenhoeft,Ron': {'Boscoli,TommasodiPietro': 3}, 'Busi': {'Boscoli,TommasodiPietro': 2}, 'Cipriani': {'Boscoli,TommasodiPietro': 4}, 'Fancelli,Stefano': {'Boscoli,TommasodiPietro': 2}}\n"
     ]
    }
   ],
   "source": [
    "artworks_with_artists = set()\n",
    "work_not_in_data = []\n",
    "photographer_artist_dict = {}\n",
    "artist = None\n",
    "for photographer in photographer_dict:\n",
    "    photographer_artist_dict[photographer] = {}\n",
    "    for photo in photographer_dict[photographer]:\n",
    "        try:\n",
    "            for attribute in work_dict[photo+\"(work)\"]:\n",
    "                for index in range(len(attribute)):\n",
    "                    if type(attribute[index]) == list and \"P14_carried_out_by(cidoc-crm)\" in attribute[index]:\n",
    "                        artworks_with_artists.add(photo)\n",
    "                        artist = exchange_id_with_value([element for element in attribute[index] if element.__contains__(\"actor\")][0])\n",
    "\n",
    "            if (artist not in photographer_artist_dict[photographer]) and artist != None:\n",
    "                photographer_artist_dict[photographer][artist] = photographer_dict[photographer][photo]\n",
    "            elif artist in photographer_artist_dict[photographer]:\n",
    "                photographer_artist_dict[photographer][artist] += photographer_dict[photographer][photo]\n",
    "\n",
    "        except KeyError as e:\n",
    "            work_not_in_data.append(photo)\n",
    "        \n",
    "\n",
    "print(\"Number of artworks with an artist mentioned: {}\".format(len(artworks_with_artists)))\n",
    "print(\"Number of works which are not in the dataset: {}\".format(len(work_not_in_data)))\n",
    "\n",
    "print(\"Number of artists {} has photographed: {}\".format(\"Sigismondi,Roberto\", len(photographer_artist_dict['Sigismondi,Roberto'])))\n",
    "print(photographer_artist_dict)"
   ]
  }
 ],
 "metadata": {
  "interpreter": {
   "hash": "8c01cf5487a1c433a34d8115dcd9e4ed69de96a5d3bcc1c6a229ce815a5b0df7"
  },
  "kernelspec": {
   "display_name": "Python 3.8.5 ('tenscorflow')",
   "language": "python",
   "name": "python3"
  },
  "language_info": {
   "codemirror_mode": {
    "name": "ipython",
    "version": 3
   },
   "file_extension": ".py",
   "mimetype": "text/x-python",
   "name": "python",
   "nbconvert_exporter": "python",
   "pygments_lexer": "ipython3",
   "version": "3.8.5"
  },
  "orig_nbformat": 4
 },
 "nbformat": 4,
 "nbformat_minor": 2
}
